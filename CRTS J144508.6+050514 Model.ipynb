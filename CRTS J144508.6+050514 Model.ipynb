{
 "cells": [
  {
   "cell_type": "code",
   "execution_count": 1,
   "metadata": {},
   "outputs": [],
   "source": [
    "import phoebe\n",
    "import numpy as np\n",
    "import matplotlib.pyplot as plt\n",
    "\n",
    "from astropy import units as u"
   ]
  },
  {
   "cell_type": "code",
   "execution_count": 2,
   "metadata": {},
   "outputs": [],
   "source": [
    "%matplotlib inline\n",
    "# initialization\n",
    "#phoebe.mpi_on(nprocs=4)\n",
    "#phoebe.mpi_off()\n",
    "logger = phoebe.logger(clevel=None,flevel='INFO',filename='phoebe.log')"
   ]
  },
  {
   "cell_type": "code",
   "execution_count": 3,
   "metadata": {},
   "outputs": [],
   "source": [
    "filename='/data/SuperWASP/1SWASP J144508.70+050514.4.csv'\n",
    "\n",
    "times, fluxes, sigmas = np.loadtxt(\n",
    "    filename,\n",
    "    dtype={\n",
    "        'names': ('tmid', 'mag', 'mag_err'),\n",
    "        'formats': ('f4', 'f4', 'f4'),\n",
    "    },\n",
    "    unpack=True,\n",
    "    delimiter=',',\n",
    "    usecols=(0,2,3),\n",
    "    skiprows=1\n",
    ")\n"
   ]
  },
  {
   "cell_type": "code",
   "execution_count": 11,
   "metadata": {},
   "outputs": [],
   "source": [
    "orbit_parameters = {\n",
    "    \"\"\" semi-major access (solar radii) \"\"\"\n",
    "    'sma': 4.93363,\n",
    "    \"\"\" orbital eccentricity \"\"\"\n",
    "    'ecc': 0.00278,\n",
    "    \"\"\" inclination (degrees) \"\"\"\n",
    "    'incl': 76.75432,\n",
    "    \"\"\" orbital period \"\"\"\n",
    "    'period': 10.903857574156442 * u.hour,\n",
    "    'long_an': 0.0,\n",
    "    'dpdt': 0.0,\n",
    "    'dperdt': 0.0,\n",
    "    'per0': 0.0,\n",
    "    \"\"\" mass ratio \"\"\"\n",
    "    'q': 1.27846,\n",
    "}\n",
    "\n",
    "primary_parameters = { \n",
    "    'requiv': 1.764295,\n",
    "    'teff': 13719.0,\n",
    "    'mass': 3.430250\n",
    "}\n",
    "\n",
    "secondary_parameters = {\n",
    "    'requiv': 0.792421,\n",
    "    'teff': 6883.0,\n",
    "    'mass': 4.385437\n",
    "}\n",
    "\n",
    "envelope_parameters = {\n",
    "    \n",
    "}"
   ]
  },
  {
   "cell_type": "code",
   "execution_count": 9,
   "metadata": {},
   "outputs": [
    {
     "name": "stdout",
     "output_type": "stream",
     "text": [
      "\n",
      "    orbit:binary\n",
      "    \n",
      "        star:primary\n",
      "        star:secondary\n",
      "    \n",
      "\n"
     ]
    }
   ],
   "source": [
    "phases = phoebe.linspace(0,1,201)\n",
    "primary='primary'\n",
    "secondary='secondary'\n",
    "orbit='binary'\n",
    "\n",
    "# create a default bundle\n",
    "b = phoebe.Bundle()\n",
    "#b = phoebe.default_binary(contact=True)\n",
    "\n",
    "b.add_star(component=primary, color='blue', **primary_parameters)\n",
    "b.add_star(component=secondary, color='red', **secondary_parameters)\n",
    "b.add_orbit(component=orbit, **orbit_parameters)\n",
    "b.add_constraint('semidetached', component=primary)\n",
    "b.add_constraint('semidetached', component=secondary)\n",
    "\n",
    "b.set_hierarchy(phoebe.parameters.hierarchy.binaryorbit, b[orbit], b[primary], b[secondary], b['contact_envelope'])\n",
    "b.add_compute()\n",
    "\n",
    "#b.add_dataset(phoebe.parameters.dataset.lc, times=times, fluxes=fluxes, sigmas=sigmas, dataset='lc01')\n",
    "b.add_dataset(phoebe.parameters.dataset.lc, times=times, fluxes=fluxes, dataset='lc01')\n",
    "#b.add_dataset(phoebe.parameters.dataset.lc, times=times, dataset='lc01')\n",
    "#b.add_dataset('lc', times=np.linspace(0,1,201), dataset='mylc')\n",
    "b.add_dataset(phoebe.parameters.dataset.rv, compute_phases=phases, dataset='rv01')\n",
    "b.add_dataset(phoebe.parameters.dataset.orb, compute_phases=phases, dataset='orb01')\n",
    "#b.add_dataset(phoebe.parameters.dataset.mesh, compute_phases=[0], dataset='mesh01')\n",
    "#b.set_value('columns', '*')\n",
    "\n",
    "b.flip_constraint('compute_phases', solve_for='compute_times')\n",
    "print(b.get_hierarchy())\n"
   ]
  },
  {
   "cell_type": "code",
   "execution_count": 12,
   "metadata": {},
   "outputs": [
    {
     "data": {
      "image/png": "[encoded data removed]",
      "text/plain": [
       "<Figure size 432x288 with 1 Axes>"
      ]
     },
     "metadata": {},
     "output_type": "display_data"
    }
   ],
   "source": [
    "afig, mplfig = b['lc'].plot(show=True)"
   ]
  },
  {
   "cell_type": "code",
   "execution_count": 17,
   "metadata": {},
   "outputs": [
    {
     "ename": "ValueError",
     "evalue": "Could not compute ldint with ldatm='ck2004'.  Try changing atm to a table that covers a sufficient range of values.  If necessary, set atm to 'blackbody' and/or ld_mode to 'manual' (in which case coefficients will need to be explicitly provided via ld_coeffs). Enable 'warning' logger to see out-of-bound arrays.",
     "output_type": "error",
     "traceback": [
      "\u001b[0;31m---------------------------------------------------------------------------\u001b[0m",
      "\u001b[0;31mValueError\u001b[0m                                Traceback (most recent call last)",
      "\u001b[0;32m/usr/local/lib/python3.6/dist-packages/phoebe/backend/universe.py\u001b[0m in \u001b[0;36m_populate_lc\u001b[0;34m(self, dataset, ignore_effects, **kwargs)\u001b[0m\n\u001b[1;32m   2008\u001b[0m                                  \u001b[0mld_coeffs\u001b[0m\u001b[0;34m=\u001b[0m\u001b[0mld_coeffs\u001b[0m\u001b[0;34m,\u001b[0m\u001b[0;34m\u001b[0m\u001b[0;34m\u001b[0m\u001b[0m\n\u001b[0;32m-> 2009\u001b[0;31m                                  photon_weighted=intens_weighting=='photon')\n\u001b[0m\u001b[1;32m   2010\u001b[0m             \u001b[0;32mexcept\u001b[0m \u001b[0mValueError\u001b[0m \u001b[0;32mas\u001b[0m \u001b[0merr\u001b[0m\u001b[0;34m:\u001b[0m\u001b[0;34m\u001b[0m\u001b[0;34m\u001b[0m\u001b[0m\n",
      "\u001b[0;32m/usr/local/lib/python3.6/dist-packages/phoebe/atmospheres/passbands.py\u001b[0m in \u001b[0;36mldint\u001b[0;34m(self, Teff, logg, abun, ldatm, ld_func, ld_coeffs, photon_weighted)\u001b[0m\n\u001b[1;32m   2843\u001b[0m             \u001b[0;32mif\u001b[0m \u001b[0mnp\u001b[0m\u001b[0;34m.\u001b[0m\u001b[0many\u001b[0m\u001b[0;34m(\u001b[0m\u001b[0mnanmask\u001b[0m\u001b[0;34m)\u001b[0m\u001b[0;34m:\u001b[0m\u001b[0;34m\u001b[0m\u001b[0;34m\u001b[0m\u001b[0m\n\u001b[0;32m-> 2844\u001b[0;31m                 \u001b[0;32mraise\u001b[0m \u001b[0mValueError\u001b[0m\u001b[0;34m(\u001b[0m\u001b[0;34m'Atmosphere parameters out of bounds: Teff=%s, logg=%s, abun=%s'\u001b[0m \u001b[0;34m%\u001b[0m \u001b[0;34m(\u001b[0m\u001b[0mTeff\u001b[0m\u001b[0;34m[\u001b[0m\u001b[0mnanmask\u001b[0m\u001b[0;34m]\u001b[0m\u001b[0;34m,\u001b[0m \u001b[0mlogg\u001b[0m\u001b[0;34m[\u001b[0m\u001b[0mnanmask\u001b[0m\u001b[0;34m]\u001b[0m\u001b[0;34m,\u001b[0m \u001b[0mabun\u001b[0m\u001b[0;34m[\u001b[0m\u001b[0mnanmask\u001b[0m\u001b[0;34m]\u001b[0m\u001b[0;34m)\u001b[0m\u001b[0;34m)\u001b[0m\u001b[0;34m\u001b[0m\u001b[0;34m\u001b[0m\u001b[0m\n\u001b[0m\u001b[1;32m   2845\u001b[0m             \u001b[0;32mreturn\u001b[0m \u001b[0mretval\u001b[0m\u001b[0;34m\u001b[0m\u001b[0;34m\u001b[0m\u001b[0m\n",
      "\u001b[0;31mValueError\u001b[0m: Atmosphere parameters out of bounds: Teff=[796.87179811], logg=[-11.66455964], abun=[0.]",
      "\nDuring handling of the above exception, another exception occurred:\n",
      "\u001b[0;31mValueError\u001b[0m                                Traceback (most recent call last)",
      "\u001b[0;32m<ipython-input-17-5db974e9e454>\u001b[0m in \u001b[0;36m<module>\u001b[0;34m()\u001b[0m\n\u001b[0;32m----> 1\u001b[0;31m \u001b[0mb\u001b[0m\u001b[0;34m.\u001b[0m\u001b[0mrun_compute\u001b[0m\u001b[0;34m(\u001b[0m\u001b[0mmodel\u001b[0m\u001b[0;34m=\u001b[0m\u001b[0;34m'default'\u001b[0m\u001b[0;34m,\u001b[0m \u001b[0mskip_checks\u001b[0m\u001b[0;34m=\u001b[0m\u001b[0;32mTrue\u001b[0m\u001b[0;34m)\u001b[0m\u001b[0;34m\u001b[0m\u001b[0;34m\u001b[0m\u001b[0m\n\u001b[0m\u001b[1;32m      2\u001b[0m \u001b[0;31m#print(b.get_parameter(qualifier='compute_times', kind='mesh'))\u001b[0m\u001b[0;34m\u001b[0m\u001b[0;34m\u001b[0m\u001b[0;34m\u001b[0m\u001b[0m\n",
      "\u001b[0;32m/usr/local/lib/python3.6/dist-packages/phoebe/parameters/parameters.py\u001b[0m in \u001b[0;36m_send_if_client\u001b[0;34m(self, *args, **kwargs)\u001b[0m\n\u001b[1;32m    267\u001b[0m                 \u001b[0mself\u001b[0m\u001b[0;34m.\u001b[0m\u001b[0m_bundle\u001b[0m\u001b[0;34m.\u001b[0m\u001b[0mclient_update\u001b[0m\u001b[0;34m(\u001b[0m\u001b[0;34m)\u001b[0m\u001b[0;34m\u001b[0m\u001b[0;34m\u001b[0m\u001b[0m\n\u001b[1;32m    268\u001b[0m         \u001b[0;32melse\u001b[0m\u001b[0;34m:\u001b[0m\u001b[0;34m\u001b[0m\u001b[0;34m\u001b[0m\u001b[0m\n\u001b[0;32m--> 269\u001b[0;31m             \u001b[0;32mreturn\u001b[0m \u001b[0mfctn\u001b[0m\u001b[0;34m(\u001b[0m\u001b[0mself\u001b[0m\u001b[0;34m,\u001b[0m \u001b[0;34m*\u001b[0m\u001b[0margs\u001b[0m\u001b[0;34m,\u001b[0m \u001b[0;34m**\u001b[0m\u001b[0mkwargs\u001b[0m\u001b[0;34m)\u001b[0m\u001b[0;34m\u001b[0m\u001b[0;34m\u001b[0m\u001b[0m\n\u001b[0m\u001b[1;32m    270\u001b[0m     \u001b[0;32mreturn\u001b[0m \u001b[0m_send_if_client\u001b[0m\u001b[0;34m\u001b[0m\u001b[0;34m\u001b[0m\u001b[0m\n\u001b[1;32m    271\u001b[0m \u001b[0;34m\u001b[0m\u001b[0m\n",
      "\u001b[0;32m/usr/local/lib/python3.6/dist-packages/phoebe/frontend/bundle.py\u001b[0m in \u001b[0;36mrun_compute\u001b[0;34m(self, compute, model, detach, times, **kwargs)\u001b[0m\n\u001b[1;32m   7099\u001b[0m                 \u001b[0mmetawargs\u001b[0m \u001b[0;34m=\u001b[0m \u001b[0;34m{\u001b[0m\u001b[0;34m'compute'\u001b[0m\u001b[0;34m:\u001b[0m \u001b[0mcompute\u001b[0m\u001b[0;34m,\u001b[0m \u001b[0;34m'model'\u001b[0m\u001b[0;34m:\u001b[0m \u001b[0mmodel\u001b[0m\u001b[0;34m,\u001b[0m \u001b[0;34m'context'\u001b[0m\u001b[0;34m:\u001b[0m \u001b[0;34m'model'\u001b[0m\u001b[0;34m}\u001b[0m  \u001b[0;31m# dataset, component, etc will be set by the compute_func\u001b[0m\u001b[0;34m\u001b[0m\u001b[0;34m\u001b[0m\u001b[0m\n\u001b[1;32m   7100\u001b[0m \u001b[0;34m\u001b[0m\u001b[0m\n\u001b[0;32m-> 7101\u001b[0;31m                 \u001b[0mparams\u001b[0m \u001b[0;34m=\u001b[0m \u001b[0mcompute_class\u001b[0m\u001b[0;34m(\u001b[0m\u001b[0;34m)\u001b[0m\u001b[0;34m.\u001b[0m\u001b[0mrun\u001b[0m\u001b[0;34m(\u001b[0m\u001b[0mself\u001b[0m\u001b[0;34m,\u001b[0m \u001b[0mcompute\u001b[0m\u001b[0;34m,\u001b[0m \u001b[0mtimes\u001b[0m\u001b[0;34m=\u001b[0m\u001b[0mtimes\u001b[0m\u001b[0;34m,\u001b[0m \u001b[0;34m**\u001b[0m\u001b[0mkwargs\u001b[0m\u001b[0;34m)\u001b[0m\u001b[0;34m\u001b[0m\u001b[0;34m\u001b[0m\u001b[0m\n\u001b[0m\u001b[1;32m   7102\u001b[0m \u001b[0;34m\u001b[0m\u001b[0m\n\u001b[1;32m   7103\u001b[0m \u001b[0;34m\u001b[0m\u001b[0m\n",
      "\u001b[0;32m/usr/local/lib/python3.6/dist-packages/phoebe/backend/backends.py\u001b[0m in \u001b[0;36mrun\u001b[0;34m(self, b, compute, times, **kwargs)\u001b[0m\n\u001b[1;32m    458\u001b[0m \u001b[0;34m\u001b[0m\u001b[0m\n\u001b[1;32m    459\u001b[0m         \u001b[0;32melse\u001b[0m\u001b[0;34m:\u001b[0m\u001b[0;34m\u001b[0m\u001b[0;34m\u001b[0m\u001b[0m\n\u001b[0;32m--> 460\u001b[0;31m             \u001b[0mrpacketlists_per_worker\u001b[0m \u001b[0;34m=\u001b[0m \u001b[0;34m[\u001b[0m\u001b[0mself\u001b[0m\u001b[0;34m.\u001b[0m\u001b[0m_run_chunk\u001b[0m\u001b[0;34m(\u001b[0m\u001b[0;34m**\u001b[0m\u001b[0mpacket\u001b[0m\u001b[0;34m)\u001b[0m\u001b[0;34m]\u001b[0m\u001b[0;34m\u001b[0m\u001b[0;34m\u001b[0m\u001b[0m\n\u001b[0m\u001b[1;32m    461\u001b[0m \u001b[0;34m\u001b[0m\u001b[0m\n\u001b[1;32m    462\u001b[0m         \u001b[0mlogger\u001b[0m\u001b[0;34m.\u001b[0m\u001b[0mdebug\u001b[0m\u001b[0;34m(\u001b[0m\u001b[0;34m\"rank:{}/{} calling _fill_syns\"\u001b[0m\u001b[0;34m.\u001b[0m\u001b[0mformat\u001b[0m\u001b[0;34m(\u001b[0m\u001b[0mmpi\u001b[0m\u001b[0;34m.\u001b[0m\u001b[0mmyrank\u001b[0m\u001b[0;34m,\u001b[0m \u001b[0mmpi\u001b[0m\u001b[0;34m.\u001b[0m\u001b[0mnprocs\u001b[0m\u001b[0;34m)\u001b[0m\u001b[0;34m)\u001b[0m\u001b[0;34m\u001b[0m\u001b[0;34m\u001b[0m\u001b[0m\n",
      "\u001b[0;32m/usr/local/lib/python3.6/dist-packages/phoebe/backend/backends.py\u001b[0m in \u001b[0;36m_run_chunk\u001b[0;34m(self, b, compute, times, infolists, **kwargs)\u001b[0m\n\u001b[1;32m    500\u001b[0m         \u001b[0mlogger\u001b[0m\u001b[0;34m.\u001b[0m\u001b[0mdebug\u001b[0m\u001b[0;34m(\u001b[0m\u001b[0;34m\"rank:{}/{} _run_chunk\"\u001b[0m\u001b[0;34m.\u001b[0m\u001b[0mformat\u001b[0m\u001b[0;34m(\u001b[0m\u001b[0mmpi\u001b[0m\u001b[0;34m.\u001b[0m\u001b[0mmyrank\u001b[0m\u001b[0;34m,\u001b[0m \u001b[0mmpi\u001b[0m\u001b[0;34m.\u001b[0m\u001b[0mnprocs\u001b[0m\u001b[0;34m)\u001b[0m\u001b[0;34m)\u001b[0m\u001b[0;34m\u001b[0m\u001b[0;34m\u001b[0m\u001b[0m\n\u001b[1;32m    501\u001b[0m \u001b[0;34m\u001b[0m\u001b[0m\n\u001b[0;32m--> 502\u001b[0;31m         \u001b[0mworker_setup_kwargs\u001b[0m \u001b[0;34m=\u001b[0m \u001b[0mself\u001b[0m\u001b[0;34m.\u001b[0m\u001b[0m_worker_setup\u001b[0m\u001b[0;34m(\u001b[0m\u001b[0mb\u001b[0m\u001b[0;34m,\u001b[0m \u001b[0mcompute\u001b[0m\u001b[0;34m,\u001b[0m \u001b[0mtimes\u001b[0m\u001b[0;34m,\u001b[0m \u001b[0minfolists\u001b[0m\u001b[0;34m,\u001b[0m \u001b[0;34m**\u001b[0m\u001b[0mkwargs\u001b[0m\u001b[0;34m)\u001b[0m\u001b[0;34m\u001b[0m\u001b[0;34m\u001b[0m\u001b[0m\n\u001b[0m\u001b[1;32m    503\u001b[0m \u001b[0;34m\u001b[0m\u001b[0m\n\u001b[1;32m    504\u001b[0m         \u001b[0minds\u001b[0m \u001b[0;34m=\u001b[0m \u001b[0mrange\u001b[0m\u001b[0;34m(\u001b[0m\u001b[0mlen\u001b[0m\u001b[0;34m(\u001b[0m\u001b[0mtimes\u001b[0m\u001b[0;34m)\u001b[0m\u001b[0;34m)\u001b[0m\u001b[0;34m\u001b[0m\u001b[0;34m\u001b[0m\u001b[0m\n",
      "\u001b[0;32m/usr/local/lib/python3.6/dist-packages/phoebe/backend/backends.py\u001b[0m in \u001b[0;36m_worker_setup\u001b[0;34m(self, b, compute, times, infolists, **kwargs)\u001b[0m\n\u001b[1;32m    693\u001b[0m                                                         \u001b[0mcompute_l3\u001b[0m\u001b[0;34m=\u001b[0m\u001b[0;32mTrue\u001b[0m\u001b[0;34m,\u001b[0m\u001b[0;34m\u001b[0m\u001b[0;34m\u001b[0m\u001b[0m\n\u001b[1;32m    694\u001b[0m                                                         \u001b[0mcompute_extrinsic\u001b[0m\u001b[0;34m=\u001b[0m\u001b[0;32mFalse\u001b[0m\u001b[0;34m,\u001b[0m\u001b[0;34m\u001b[0m\u001b[0;34m\u001b[0m\u001b[0m\n\u001b[0;32m--> 695\u001b[0;31m                                                         **kwargs)\n\u001b[0m\u001b[1;32m    696\u001b[0m \u001b[0;34m\u001b[0m\u001b[0m\n\u001b[1;32m    697\u001b[0m         \u001b[0;32mif\u001b[0m \u001b[0mlen\u001b[0m\u001b[0;34m(\u001b[0m\u001b[0mmeshablerefs\u001b[0m\u001b[0;34m)\u001b[0m \u001b[0;34m>\u001b[0m \u001b[0;36m1\u001b[0m \u001b[0;32mor\u001b[0m \u001b[0mhier\u001b[0m\u001b[0;34m.\u001b[0m\u001b[0mget_kind_of\u001b[0m\u001b[0;34m(\u001b[0m\u001b[0mmeshablerefs\u001b[0m\u001b[0;34m[\u001b[0m\u001b[0;36m0\u001b[0m\u001b[0;34m]\u001b[0m\u001b[0;34m)\u001b[0m\u001b[0;34m==\u001b[0m\u001b[0;34m'envelope'\u001b[0m\u001b[0;34m:\u001b[0m\u001b[0;34m\u001b[0m\u001b[0;34m\u001b[0m\u001b[0m\n",
      "\u001b[0;32m/usr/local/lib/python3.6/dist-packages/phoebe/backend/backends.py\u001b[0m in \u001b[0;36m_create_system_and_compute_pblums\u001b[0;34m(self, b, compute, dynamics_method, hier, meshablerefs, datasets, compute_l3, compute_l3_frac, compute_extrinsic, reset, lc_only, **kwargs)\u001b[0m\n\u001b[1;32m    648\u001b[0m         \u001b[0mlogger\u001b[0m\u001b[0;34m.\u001b[0m\u001b[0mdebug\u001b[0m\u001b[0;34m(\u001b[0m\u001b[0;34m\"rank:{}/{} PhoebeBackend._create_system_and_compute_pblums: handling pblum scaling\"\u001b[0m\u001b[0;34m.\u001b[0m\u001b[0mformat\u001b[0m\u001b[0;34m(\u001b[0m\u001b[0mmpi\u001b[0m\u001b[0;34m.\u001b[0m\u001b[0mmyrank\u001b[0m\u001b[0;34m,\u001b[0m \u001b[0mmpi\u001b[0m\u001b[0;34m.\u001b[0m\u001b[0mnprocs\u001b[0m\u001b[0;34m)\u001b[0m\u001b[0;34m)\u001b[0m\u001b[0;34m\u001b[0m\u001b[0;34m\u001b[0m\u001b[0m\n\u001b[1;32m    649\u001b[0m         \u001b[0;31m# NOTE: system.compute_pblum_scalings populates at t0 with ignore_effect=True (so intrinsic pblum)\u001b[0m\u001b[0;34m\u001b[0m\u001b[0;34m\u001b[0m\u001b[0;34m\u001b[0m\u001b[0m\n\u001b[0;32m--> 650\u001b[0;31m         \u001b[0msystem\u001b[0m\u001b[0;34m.\u001b[0m\u001b[0mcompute_pblum_scalings\u001b[0m\u001b[0;34m(\u001b[0m\u001b[0mb\u001b[0m\u001b[0;34m,\u001b[0m \u001b[0mdatasets\u001b[0m\u001b[0;34m,\u001b[0m \u001b[0mt0\u001b[0m\u001b[0;34m,\u001b[0m \u001b[0mx0\u001b[0m\u001b[0;34m,\u001b[0m \u001b[0my0\u001b[0m\u001b[0;34m,\u001b[0m \u001b[0mz0\u001b[0m\u001b[0;34m,\u001b[0m \u001b[0mvx0\u001b[0m\u001b[0;34m,\u001b[0m \u001b[0mvy0\u001b[0m\u001b[0;34m,\u001b[0m \u001b[0mvz0\u001b[0m\u001b[0;34m,\u001b[0m \u001b[0metheta0\u001b[0m\u001b[0;34m,\u001b[0m \u001b[0melongan0\u001b[0m\u001b[0;34m,\u001b[0m \u001b[0meincl0\u001b[0m\u001b[0;34m,\u001b[0m \u001b[0mreset\u001b[0m\u001b[0;34m=\u001b[0m\u001b[0;32mFalse\u001b[0m\u001b[0;34m,\u001b[0m \u001b[0mlc_only\u001b[0m\u001b[0;34m=\u001b[0m\u001b[0mlc_only\u001b[0m\u001b[0;34m)\u001b[0m\u001b[0;34m\u001b[0m\u001b[0;34m\u001b[0m\u001b[0m\n\u001b[0m\u001b[1;32m    651\u001b[0m         \u001b[0;32mif\u001b[0m \u001b[0mcompute_l3\u001b[0m \u001b[0;32mor\u001b[0m \u001b[0mcompute_extrinsic\u001b[0m\u001b[0;34m:\u001b[0m\u001b[0;34m\u001b[0m\u001b[0;34m\u001b[0m\u001b[0m\n\u001b[1;32m    652\u001b[0m             \u001b[0;32mif\u001b[0m \u001b[0mlen\u001b[0m\u001b[0;34m(\u001b[0m\u001b[0mb\u001b[0m\u001b[0;34m.\u001b[0m\u001b[0mfeatures\u001b[0m\u001b[0;34m)\u001b[0m\u001b[0;34m:\u001b[0m\u001b[0;34m\u001b[0m\u001b[0;34m\u001b[0m\u001b[0m\n",
      "\u001b[0;32m/usr/local/lib/python3.6/dist-packages/phoebe/backend/universe.py\u001b[0m in \u001b[0;36mcompute_pblum_scalings\u001b[0;34m(self, b, datasets, t0, x0, y0, z0, vx0, vy0, vz0, etheta0, elongan0, eincl0, reset, lc_only)\u001b[0m\n\u001b[1;32m    364\u001b[0m             \u001b[0mlogger\u001b[0m\u001b[0;34m.\u001b[0m\u001b[0mdebug\u001b[0m\u001b[0;34m(\u001b[0m\u001b[0;34m\"system.compute_pblum_scalings: populating observables for dataset={} with for pblum_mode={}\"\u001b[0m\u001b[0;34m.\u001b[0m\u001b[0mformat\u001b[0m\u001b[0;34m(\u001b[0m\u001b[0mdataset\u001b[0m\u001b[0;34m,\u001b[0m \u001b[0mpblum_mode\u001b[0m\u001b[0;34m)\u001b[0m\u001b[0;34m)\u001b[0m\u001b[0;34m\u001b[0m\u001b[0;34m\u001b[0m\u001b[0m\n\u001b[1;32m    365\u001b[0m             self.populate_observables(t0, [kind], [dataset],\n\u001b[0;32m--> 366\u001b[0;31m                                         ignore_effects=True)\n\u001b[0m\u001b[1;32m    367\u001b[0m \u001b[0;34m\u001b[0m\u001b[0m\n\u001b[1;32m    368\u001b[0m             \u001b[0mds_components\u001b[0m \u001b[0;34m=\u001b[0m \u001b[0mhier_stars\u001b[0m\u001b[0;34m\u001b[0m\u001b[0;34m\u001b[0m\u001b[0m\n",
      "\u001b[0;32m/usr/local/lib/python3.6/dist-packages/phoebe/backend/universe.py\u001b[0m in \u001b[0;36mpopulate_observables\u001b[0;34m(self, time, kinds, datasets, ignore_effects)\u001b[0m\n\u001b[1;32m    335\u001b[0m         \u001b[0;32mfor\u001b[0m \u001b[0mkind\u001b[0m\u001b[0;34m,\u001b[0m \u001b[0mdataset\u001b[0m \u001b[0;32min\u001b[0m \u001b[0mzip\u001b[0m\u001b[0;34m(\u001b[0m\u001b[0mkinds\u001b[0m\u001b[0;34m,\u001b[0m \u001b[0mdatasets\u001b[0m\u001b[0;34m)\u001b[0m\u001b[0;34m:\u001b[0m\u001b[0;34m\u001b[0m\u001b[0;34m\u001b[0m\u001b[0m\n\u001b[1;32m    336\u001b[0m             \u001b[0;32mfor\u001b[0m \u001b[0mstarref\u001b[0m\u001b[0;34m,\u001b[0m \u001b[0mbody\u001b[0m \u001b[0;32min\u001b[0m \u001b[0mself\u001b[0m\u001b[0;34m.\u001b[0m\u001b[0mitems\u001b[0m\u001b[0;34m(\u001b[0m\u001b[0;34m)\u001b[0m\u001b[0;34m:\u001b[0m\u001b[0;34m\u001b[0m\u001b[0;34m\u001b[0m\u001b[0m\n\u001b[0;32m--> 337\u001b[0;31m                 \u001b[0mbody\u001b[0m\u001b[0;34m.\u001b[0m\u001b[0mpopulate_observable\u001b[0m\u001b[0;34m(\u001b[0m\u001b[0mtime\u001b[0m\u001b[0;34m,\u001b[0m \u001b[0mkind\u001b[0m\u001b[0;34m,\u001b[0m \u001b[0mdataset\u001b[0m\u001b[0;34m,\u001b[0m \u001b[0mignore_effects\u001b[0m\u001b[0;34m=\u001b[0m\u001b[0mignore_effects\u001b[0m\u001b[0;34m)\u001b[0m\u001b[0;34m\u001b[0m\u001b[0;34m\u001b[0m\u001b[0m\n\u001b[0m\u001b[1;32m    338\u001b[0m \u001b[0;34m\u001b[0m\u001b[0m\n\u001b[1;32m    339\u001b[0m     def compute_pblum_scalings(self, b, datasets, t0,\n",
      "\u001b[0;32m/usr/local/lib/python3.6/dist-packages/phoebe/backend/universe.py\u001b[0m in \u001b[0;36mpopulate_observable\u001b[0;34m(self, time, kind, dataset, ignore_effects, **kwargs)\u001b[0m\n\u001b[1;32m   1245\u001b[0m             \u001b[0;32mreturn\u001b[0m\u001b[0;34m\u001b[0m\u001b[0;34m\u001b[0m\u001b[0m\n\u001b[1;32m   1246\u001b[0m \u001b[0;34m\u001b[0m\u001b[0m\n\u001b[0;32m-> 1247\u001b[0;31m         \u001b[0mnew_mesh_cols\u001b[0m \u001b[0;34m=\u001b[0m \u001b[0mgetattr\u001b[0m\u001b[0;34m(\u001b[0m\u001b[0mself\u001b[0m\u001b[0;34m,\u001b[0m \u001b[0;34m'_populate_{}'\u001b[0m\u001b[0;34m.\u001b[0m\u001b[0mformat\u001b[0m\u001b[0;34m(\u001b[0m\u001b[0mkind\u001b[0m\u001b[0;34m.\u001b[0m\u001b[0mlower\u001b[0m\u001b[0;34m(\u001b[0m\u001b[0;34m)\u001b[0m\u001b[0;34m)\u001b[0m\u001b[0;34m)\u001b[0m\u001b[0;34m(\u001b[0m\u001b[0mdataset\u001b[0m\u001b[0;34m,\u001b[0m \u001b[0mignore_effects\u001b[0m\u001b[0;34m=\u001b[0m\u001b[0mignore_effects\u001b[0m\u001b[0;34m,\u001b[0m \u001b[0;34m**\u001b[0m\u001b[0mkwargs\u001b[0m\u001b[0;34m)\u001b[0m\u001b[0;34m\u001b[0m\u001b[0;34m\u001b[0m\u001b[0m\n\u001b[0m\u001b[1;32m   1248\u001b[0m \u001b[0;34m\u001b[0m\u001b[0m\n\u001b[1;32m   1249\u001b[0m         \u001b[0;32mfor\u001b[0m \u001b[0mkey\u001b[0m\u001b[0;34m,\u001b[0m \u001b[0mcol\u001b[0m \u001b[0;32min\u001b[0m \u001b[0mnew_mesh_cols\u001b[0m\u001b[0;34m.\u001b[0m\u001b[0mitems\u001b[0m\u001b[0;34m(\u001b[0m\u001b[0;34m)\u001b[0m\u001b[0;34m:\u001b[0m\u001b[0;34m\u001b[0m\u001b[0;34m\u001b[0m\u001b[0m\n",
      "\u001b[0;32m/usr/local/lib/python3.6/dist-packages/phoebe/backend/universe.py\u001b[0m in \u001b[0;36m_populate_lc\u001b[0;34m(self, dataset, ignore_effects, **kwargs)\u001b[0m\n\u001b[1;32m   2016\u001b[0m                     \u001b[0;32melse\u001b[0m\u001b[0;34m:\u001b[0m\u001b[0;34m\u001b[0m\u001b[0;34m\u001b[0m\u001b[0m\n\u001b[1;32m   2017\u001b[0m                         \u001b[0;32mif\u001b[0m \u001b[0mld_mode\u001b[0m\u001b[0;34m==\u001b[0m\u001b[0;34m'interp'\u001b[0m\u001b[0;34m:\u001b[0m\u001b[0;34m\u001b[0m\u001b[0;34m\u001b[0m\u001b[0m\n\u001b[0;32m-> 2018\u001b[0;31m                             \u001b[0;32mraise\u001b[0m \u001b[0mValueError\u001b[0m\u001b[0;34m(\u001b[0m\u001b[0;34m\"Could not compute ldint with ldatm='{}'.  Try changing atm to a table that covers a sufficient range of values.  If necessary, set atm to 'blackbody' and/or ld_mode to 'manual' (in which case coefficients will need to be explicitly provided via ld_coeffs). Enable 'warning' logger to see out-of-bound arrays.\"\u001b[0m\u001b[0;34m.\u001b[0m\u001b[0mformat\u001b[0m\u001b[0;34m(\u001b[0m\u001b[0mldatm\u001b[0m\u001b[0;34m)\u001b[0m\u001b[0;34m)\u001b[0m\u001b[0;34m\u001b[0m\u001b[0;34m\u001b[0m\u001b[0m\n\u001b[0m\u001b[1;32m   2019\u001b[0m                         \u001b[0;32melif\u001b[0m \u001b[0mld_mode\u001b[0m \u001b[0;34m==\u001b[0m \u001b[0;34m'lookup'\u001b[0m\u001b[0;34m:\u001b[0m\u001b[0;34m\u001b[0m\u001b[0;34m\u001b[0m\u001b[0m\n\u001b[1;32m   2020\u001b[0m                             \u001b[0;32mraise\u001b[0m \u001b[0mValueError\u001b[0m\u001b[0;34m(\u001b[0m\u001b[0;34m\"Could not compute ldint with ldatm='{}'.  Try changing atm to a table that covers a sufficient range of values.  If necessary, set atm to 'blackbody' and/or ld_mode to 'manual' (in which case coefficients will need to be explicitly provided via ld_coeffs). Enable 'warning' logger to see out-of-bound arrays.\"\u001b[0m\u001b[0;34m.\u001b[0m\u001b[0mformat\u001b[0m\u001b[0;34m(\u001b[0m\u001b[0mldatm\u001b[0m\u001b[0;34m)\u001b[0m\u001b[0;34m)\u001b[0m\u001b[0;34m\u001b[0m\u001b[0;34m\u001b[0m\u001b[0m\n",
      "\u001b[0;31mValueError\u001b[0m: Could not compute ldint with ldatm='ck2004'.  Try changing atm to a table that covers a sufficient range of values.  If necessary, set atm to 'blackbody' and/or ld_mode to 'manual' (in which case coefficients will need to be explicitly provided via ld_coeffs). Enable 'warning' logger to see out-of-bound arrays."
     ]
    }
   ],
   "source": [
    "b.run_compute(model='default', skip_checks=True)\n",
    "#print(b.get_parameter(qualifier='compute_times', kind='mesh'))"
   ]
  },
  {
   "cell_type": "code",
   "execution_count": null,
   "metadata": {},
   "outputs": [],
   "source": [
    "afig, mplfig = b['lc@default'].plot(show=True)"
   ]
  },
  {
   "cell_type": "code",
   "execution_count": null,
   "metadata": {},
   "outputs": [],
   "source": [
    "afig, mplfig = b['lc01@default'].plot(x='phases', show=True)"
   ]
  },
  {
   "cell_type": "code",
   "execution_count": null,
   "metadata": {},
   "outputs": [],
   "source": [
    "b.plot(show=True)"
   ]
  },
  {
   "cell_type": "code",
   "execution_count": null,
   "metadata": {},
   "outputs": [],
   "source": [
    "afig, mplfig = b.plot(kind='mesh', fc='teffs', ec='none', show=True)"
   ]
  },
  {
   "cell_type": "code",
   "execution_count": 16,
   "metadata": {},
   "outputs": [
    {
     "name": "stdout",
     "output_type": "stream",
     "text": [
      "ParameterSet: 43 parameters\n",
      "*       requiv@primary@component: 2.013275176537638 solRad\n",
      "*   requiv_max@primary@component: 2.013275176537638 solRad\n",
      "          teff@primary@component: 13719.0 K\n",
      "          abun@primary@component: 0.0\n",
      "*         logg@primary@component: 3.8297455950757\n",
      "       syncpar@primary@component: 1.0\n",
      "*       period@primary@component: 1.0 d\n",
      "*         freq@primary@component: 6.283185 rad / d\n",
      "         pitch@primary@component: 0.0 deg\n",
      "           yaw@primary@component: 0.0 deg\n",
      "*         incl@primary@component: 90.0 deg\n",
      "*      long_an@primary@component: 0.0 deg\n",
      "     gravb_bol@primary@component: 0.32\n",
      "  irrad_frac_refl_bol@primary...: 0.6\n",
      "* irrad_frac_lost_bol@primary...: 0.4\n",
      "   ld_mode_bol@primary@component: lookup\n",
      "   ld_func_bol@primary@component: logarithmic\n",
      "  ld_coeffs_source_bol@primar...: auto\n",
      "*         mass@primary@component: 0.9988131358058301 solMass\n",
      "         freq@primary@constraint: 6.283185 / {period@primary@component}\n",
      "         logg@primary@constraint: log10((({mass@primary@component} / ({requiv@primary@component} ** 2.000000)) * 0.000000000066742999999999993790) * 100.000000)\n",
      "  irrad_frac_lost_bol@primary...: 1.000000 - {irrad_frac_refl_bol@primary@component}\n",
      "            color@primary@figure: blue\n",
      "           marker@primary@figure: .\n",
      "        linestyle@primary@figure: solid\n",
      "       requiv@primary@constraint: 1.000000 * {requiv_max@primary@component}\n",
      "         mass@primary@constraint: (39.478418 * ({sma@binary@component} ** 3.000000)) / ((({period@binary@component} ** 2.000000) * (1.000000 + {q@binary@component})) * 2942.206217504419328179210424423218)\n",
      "*          sma@primary@component: 2.65 solRad\n",
      "          sma@primary@constraint: {sma@binary@component} / (1.000000 + (1.000000 / {q@binary@component}))\n",
      "       period@primary@constraint: {period@binary@component} / {syncpar@primary@component}\n",
      "         incl@primary@constraint: {incl@binary@component} + {pitch@primary@component}\n",
      "      long_an@primary@constraint: {long_an@binary@component} + {yaw@primary@component}\n",
      "   requiv_max@primary@constraint: requiv_L1({q@binary@component}, {syncpar@primary@component}, {ecc@binary@component}, {sma@binary@component}, {incl@primary@component}, {long_an@primary@component}, {incl@binary@component}, {long_an@binary@component}, 1)\n",
      "  mesh_method@primary@phoebe0...: marching\n",
      "  ntriangles@primary@phoebe01...: 1500\n",
      "  distortion_method@primary@p...: roche\n",
      "    atm@primary@phoebe01@compute: ck2004\n",
      "    ld_mode@primary@lc01@dataset: interp\n",
      "      pblum@primary@lc01@dataset: 12.566370614359172 W\n",
      "  rv_method@primary@phoebe01@...: flux-weighted\n",
      "  rv_grav@primary@phoebe01@co...: False\n",
      "      times@primary@rv01@dataset: [] d\n",
      "    ld_mode@primary@rv01@dataset: interp\n"
     ]
    }
   ],
   "source": [
    "print(b['primary'])"
   ]
  },
  {
   "cell_type": "code",
   "execution_count": null,
   "metadata": {},
   "outputs": [],
   "source": [
    "print(b ['secondary'])"
   ]
  },
  {
   "cell_type": "code",
   "execution_count": null,
   "metadata": {},
   "outputs": [],
   "source": []
  }
 ],
 "metadata": {
  "kernelspec": {
   "display_name": "Python 3",
   "language": "python",
   "name": "python3"
  },
  "language_info": {
   "codemirror_mode": {
    "name": "ipython",
    "version": 3
   },
   "file_extension": ".py",
   "mimetype": "text/x-python",
   "name": "python",
   "nbconvert_exporter": "python",
   "pygments_lexer": "ipython3",
   "version": "3.6.9"
  }
 },
 "nbformat": 4,
 "nbformat_minor": 2
}
