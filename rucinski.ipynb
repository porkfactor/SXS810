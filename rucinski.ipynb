{
 "cells": [
  {
   "cell_type": "code",
   "execution_count": null,
   "metadata": {},
   "outputs": [],
   "source": [
    "import pandas as pd\n",
    "import numpy as np\n",
    "import matplotlib.pyplot as plt"
   ]
  },
  {
   "cell_type": "code",
   "execution_count": null,
   "metadata": {},
   "outputs": [],
   "source": [
    "%matplotlib inline\n",
    "\n",
    "plt.style.use('guide.mplstyle')\n",
    "\n",
    "plot_kwargs = { 'markersize': 3, 'marker': '^', 'linestyle': '' }"
   ]
  },
  {
   "cell_type": "code",
   "execution_count": null,
   "metadata": {},
   "outputs": [],
   "source": [
    "coefficients = pd.read_csv('rucinski-coefficients.csv', delimiter=',')\n",
    "deltas = pd.read_csv('rucinski-depths.csv', delimiter=',')\n",
    "coefficient_columns = ['0.00', '1.00', '2.00', '3.00', '4.00', '5.00', '6.00', '7.00', '8.00', '9.00', '10.00']\n",
    "\n",
    "f=1.0\n",
    "i=87.5\n",
    "q=0.3\n",
    "\n",
    "coefficients['coeff'] = coefficients[coefficient_columns].values.tolist()\n",
    "coeff = coefficients[coefficients.q == q][coefficients.i == i][coefficients.f == f]['coeff'].tolist()[0]"
   ]
  },
  {
   "cell_type": "code",
   "execution_count": null,
   "metadata": {},
   "outputs": [],
   "source": [
    "\n",
    "times = np.linspace(0, 360, 360)\n",
    "\n",
    "def f(x, c):\n",
    "   f = np.array([a * np.cos(2.0 * np.pi * i * x) for i, a in enumerate(c)])\n",
    "   return f.sum()\n",
    "    \n",
    "y = np.array([f(t / 360.0, coeff).real for t in times])"
   ]
  },
  {
   "cell_type": "code",
   "execution_count": null,
   "metadata": {},
   "outputs": [],
   "source": [
    "fig = plt.figure(figsize=(20,20))\n",
    "\n",
    "ax1 = fig.add_subplot(111)\n",
    "ax1.plot(times, y, 'k.', **plot_kwargs)"
   ]
  },
  {
   "cell_type": "code",
   "execution_count": null,
   "metadata": {},
   "outputs": [],
   "source": [
    "deltas_a = deltas[deltas.f == 0.0]\n",
    "deltas_b = deltas[deltas.f == 0.5]\n",
    "deltas_c = deltas[deltas.f == 1.0]\n",
    "\n",
    "fig = plt.figure(figsize=(20,20))\n",
    "\n",
    "ax1 = fig.add_subplot(111)\n",
    "ax1.plot(deltas_a.Pri, deltas_a.Sec, 'r', **plot_kwargs, label='f=0.0')\n",
    "ax1.plot(deltas_b.Pri, deltas_b.Sec, 'g', **plot_kwargs, label='f=0.5')\n",
    "ax1.plot(deltas_c.Pri, deltas_c.Sec, 'b', **plot_kwargs, label='f=1.0')\n",
    "\n",
    "point_a=(np.power(10, 0.5 / -2.5), np.power(10, 0.2 / -2.5))\n",
    "point_b=(np.power(10, 0.45 / -2.5), np.power(10, 0.2 / -2.5))\n",
    "\n",
    "ax1.plot(point_a[0], point_a[1], 'ro')\n",
    "ax1.plot(point_b[0], point_b[1], 'bo')\n",
    "\n",
    "ax1.annotate('CRTS J144508.6+050514',\n",
    "            xy=point_a,\n",
    "             xycoords='data',\n",
    "            horizontalalignment='right',\n",
    "             verticalalignment='top',\n",
    "            fontsize=20)\n",
    "\n",
    "ax1.annotate('CRTS J092751.8-040759',\n",
    "            xy=point_b,\n",
    "             xycoords='data',\n",
    "            horizontalalignment='left',\n",
    "            verticalalignment='bottom',\n",
    "            fontsize=20)\n",
    "\n",
    "ax1.set_xlabel('Δmagnitude (Primary)')\n",
    "ax1.set_ylabel('Δmagnitude (Secondary)')\n",
    "ax1.legend(loc='lower right')"
   ]
  },
  {
   "cell_type": "code",
   "execution_count": null,
   "metadata": {},
   "outputs": [],
   "source": [
    "fig.savefig('rucinski-1993.png', format='png')"
   ]
  },
  {
   "cell_type": "code",
   "execution_count": null,
   "metadata": {},
   "outputs": [],
   "source": []
  }
 ],
 "metadata": {
  "kernelspec": {
   "display_name": "Python 3",
   "language": "python",
   "name": "python3"
  },
  "language_info": {
   "codemirror_mode": {
    "name": "ipython",
    "version": 3
   },
   "file_extension": ".py",
   "mimetype": "text/x-python",
   "name": "python",
   "nbconvert_exporter": "python",
   "pygments_lexer": "ipython3",
   "version": "3.6.9"
  }
 },
 "nbformat": 4,
 "nbformat_minor": 2
}
