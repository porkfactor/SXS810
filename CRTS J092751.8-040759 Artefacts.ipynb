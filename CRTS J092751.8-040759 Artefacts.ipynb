{
 "cells": [
  {
   "cell_type": "code",
   "execution_count": null,
   "metadata": {},
   "outputs": [],
   "source": [
    "from pathlib import Path\n",
    "from astropy import units as u\n",
    "from astropy.table import Table\n",
    "from astropy.time import Time\n",
    "from astropy.timeseries import TimeSeries\n",
    "\n",
    "import re\n",
    "import matplotlib.pyplot as plt\n",
    "import numpy as np"
   ]
  },
  {
   "cell_type": "code",
   "execution_count": null,
   "metadata": {},
   "outputs": [],
   "source": [
    "%matplotlib inline\n",
    "\n",
    "plt.style.use('guide.mplstyle')\n",
    "\n",
    "plot_kwargs = { 'markersize': 3, 'marker': '^', }\n",
    "rv_data = Path('/data/PHOEBE1/1SWASP J092751.85-040759.8.rv.csv')\n",
    "lc_observed_data = Path('/data/PHOEBE1/1SWASP J092751.85-040759.8.lc.observed.csv')\n",
    "lc_synthetic_data = Path('/data/PHOEBE1/1SWASP J092751.85-040759.8.lc.synthetic.csv')\n",
    "lc_residuals_data = Path('/data/PHOEBE1/1SWASP J092751.85-040759.8.lc.residuals.csv')"
   ]
  },
  {
   "cell_type": "code",
   "execution_count": null,
   "metadata": {},
   "outputs": [],
   "source": [
    "rv = Table.read(rv_data, format='ascii.csv', delimiter=',', fast_reader=False)\n",
    "lc_observed = Table.read(lc_observed_data, format='ascii.csv', delimiter=',', fast_reader=False)\n",
    "lc_synthetic = Table.read(lc_synthetic_data, format='ascii.csv', delimiter=',', fast_reader=False)\n",
    "lc_residuals = Table.read(lc_residuals_data, format='ascii.csv', delimiter=',', fast_reader=False)"
   ]
  },
  {
   "cell_type": "code",
   "execution_count": null,
   "metadata": {},
   "outputs": [],
   "source": [
    "fig1 = plt.figure(figsize=(20,20))\n",
    "\n",
    "ax1 = fig1.add_subplot(111)\n",
    "ax1.plot(rv['Phase'], rv['Primary'], 'r.', label='Primary', linestyle='-', **plot_kwargs)\n",
    "ax1.plot(rv['Phase'], rv['Secondary'], 'b.', label='Secondary', linestyle='-', **plot_kwargs)\n",
    "ax1.set_xlabel('Phase')\n",
    "ax1.set_ylabel(r'Radial Velocity / $km^{-s}$')\n",
    "ax1.set_title('CRTS J092751.8-040759')\n",
    "ax1.legend(loc='best')\n",
    "ax1.grid()"
   ]
  },
  {
   "cell_type": "code",
   "execution_count": null,
   "metadata": {},
   "outputs": [],
   "source": [
    "fig2 = plt.figure(figsize=(20,20))\n",
    "\n",
    "ax2 = fig2.add_subplot(111)\n",
    "ax2.plot(lc_observed['Phase'], lc_observed['Magnitude'], 'r.', label='Observed', **plot_kwargs)\n",
    "ax2.plot(lc_synthetic['Phase'], lc_synthetic['Magnitude'], 'b.', label='Synthetic', linestyle='-', **plot_kwargs)\n",
    "ax2.set_xlabel('Phase')\n",
    "ax2.set_ylabel('Magnitude')\n",
    "ax2.set_title('CRTS J092751.8-040759')\n",
    "ax2.legend(loc='best')\n",
    "ax2.invert_yaxis()"
   ]
  },
  {
   "cell_type": "code",
   "execution_count": null,
   "metadata": {},
   "outputs": [],
   "source": [
    "fig3 = plt.figure(figsize=(20,10))\n",
    "\n",
    "ax3 = fig3.add_subplot(111)\n",
    "ax3.plot(lc_residuals['Phase'], lc_residuals['Observed'], 'r.', label='Observed', **plot_kwargs)\n",
    "ax3.plot(lc_residuals['Phase'], lc_residuals['Synthetic'], 'b.', label='Synthetic', linestyle='-', **plot_kwargs)\n",
    "ax3.set_xlabel('Phase')\n",
    "ax3.set_ylabel('Magnitude')\n",
    "ax3.set_title('CRTS J092751.8-040759')\n",
    "ax3.legend(loc='best')\n",
    "ax3.set_ylim(-0.10, 0.10)"
   ]
  },
  {
   "cell_type": "code",
   "execution_count": null,
   "metadata": {},
   "outputs": [],
   "source": [
    "fig1.savefig('/data/PHOEBE1/1SWASP J092751.85-040759.8.rv.png', format='png')\n",
    "fig2.savefig('/data/PHOEBE1/1SWASP J092751.85-040759.8.lc.png', format='png')\n",
    "fig3.savefig('/data/PHOEBE1/1SWASP J092751.85-040759.8.residuals.png', format='png')"
   ]
  },
  {
   "cell_type": "code",
   "execution_count": null,
   "metadata": {},
   "outputs": [],
   "source": []
  }
 ],
 "metadata": {
  "kernelspec": {
   "display_name": "Python 3",
   "language": "python",
   "name": "python3"
  },
  "language_info": {
   "codemirror_mode": {
    "name": "ipython",
    "version": 3
   },
   "file_extension": ".py",
   "mimetype": "text/x-python",
   "name": "python",
   "nbconvert_exporter": "python",
   "pygments_lexer": "ipython3",
   "version": "3.6.9"
  }
 },
 "nbformat": 4,
 "nbformat_minor": 2
}
