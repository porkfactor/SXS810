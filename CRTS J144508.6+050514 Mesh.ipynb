{
 "cells": [
  {
   "cell_type": "code",
   "execution_count": null,
   "metadata": {},
   "outputs": [],
   "source": [
    "from pathlib import Path\n",
    "from astropy import units as u\n",
    "from astropy.table import Table\n",
    "from astropy.time import Time\n",
    "from astropy.timeseries import TimeSeries\n",
    "\n",
    "import re\n",
    "import matplotlib.pyplot as plt\n",
    "import numpy as np"
   ]
  },
  {
   "cell_type": "code",
   "execution_count": null,
   "metadata": {},
   "outputs": [],
   "source": [
    "%matplotlib inline\n",
    "\n",
    "plt.style.use('guide.mplstyle')\n",
    "\n",
    "plot_kwargs = { 'markersize': 1, 'marker': '.', 'linestyle': '', }\n",
    "read_kwargs = { 'header_start': None, 'data_start': 1 , 'names': ('x', 'y')}\n",
    "\n",
    "phase__0_375 = Table.read('/data/PHOEBE1/1SWASP J144508.70+050514.4.mesh.phase.-0.375.csv', format='ascii.csv', delimiter='\\t', fast_reader=False, **read_kwargs)\n",
    "phase__0_250 = Table.read('/data/PHOEBE1/1SWASP J144508.70+050514.4.mesh.phase.-0.25.csv', format='ascii.csv', delimiter='\\t', fast_reader=False, **read_kwargs)\n",
    "phase__0_125 = Table.read('/data/PHOEBE1/1SWASP J144508.70+050514.4.mesh.phase.-0.125.csv', format='ascii.csv', delimiter='\\t', fast_reader=False, **read_kwargs)\n",
    "phase_0_000 = Table.read('/data/PHOEBE1/1SWASP J144508.70+050514.4.mesh.phase.0.00.csv', format='ascii.csv', delimiter='\\t', fast_reader=False, **read_kwargs)\n",
    "phase_0_125 = Table.read('/data/PHOEBE1/1SWASP J144508.70+050514.4.mesh.phase.0.125.csv', format='ascii.csv', delimiter='\\t', fast_reader=False, **read_kwargs)\n",
    "phase_0_250 = Table.read('/data/PHOEBE1/1SWASP J144508.70+050514.4.mesh.phase.0.25.csv', format='ascii.csv', delimiter='\\t', fast_reader=False, **read_kwargs)\n",
    "phase_0_375 = Table.read('/data/PHOEBE1/1SWASP J144508.70+050514.4.mesh.phase.0.375.csv', format='ascii.csv', delimiter='\\t', fast_reader=False, **read_kwargs)\n",
    "phase_0_500 = Table.read('/data/PHOEBE1/1SWASP J144508.70+050514.4.mesh.phase.0.50.csv', format='ascii.csv', delimiter='\\t', fast_reader=False, **read_kwargs)"
   ]
  },
  {
   "cell_type": "code",
   "execution_count": null,
   "metadata": {},
   "outputs": [],
   "source": [
    "fig, axes = plt.subplots(nrows=2, ncols=4, figsize=(20,10), sharey='all', sharex='all')\n",
    "axes[0][0].plot(phase__0_375['x'], phase__0_375['y'], **plot_kwargs)\n",
    "axes[0][0].set_title('phase = -0.375')\n",
    "axes[0][1].plot(phase__0_250['x'], phase__0_250['y'], **plot_kwargs)\n",
    "axes[0][1].set_title('phase = -0.25')\n",
    "axes[0][2].plot(phase__0_125['x'], phase__0_125['y'], **plot_kwargs)\n",
    "axes[0][2].set_title('phase = -0.175')\n",
    "axes[0][3].plot(phase_0_000['x'], phase_0_000['y'], **plot_kwargs)\n",
    "axes[0][3].set_title('phase = 0.0')\n",
    "axes[1][0].plot(phase_0_125['x'], phase_0_125['y'], **plot_kwargs)\n",
    "axes[1][0].set_title('phase = 0.125')\n",
    "axes[1][1].plot(phase_0_250['x'], phase_0_250['y'], **plot_kwargs)\n",
    "axes[1][1].set_title('phase = 0.25')\n",
    "axes[1][2].plot(phase_0_375['x'], phase_0_375['y'], **plot_kwargs)\n",
    "axes[1][2].set_title('phase = 0.375')\n",
    "axes[1][3].plot(phase_0_500['x'], phase_0_500['y'], **plot_kwargs)\n",
    "axes[1][3].set_title('phase = 0.5')\n"
   ]
  },
  {
   "cell_type": "code",
   "execution_count": null,
   "metadata": {},
   "outputs": [],
   "source": [
    "fig.savefig('/data/PHOEBE1/1SWASP J144508.70+050514.4.mesh.png', format='png', overwrite=True)"
   ]
  },
  {
   "cell_type": "code",
   "execution_count": null,
   "metadata": {},
   "outputs": [],
   "source": []
  }
 ],
 "metadata": {
  "kernelspec": {
   "display_name": "Python 3",
   "language": "python",
   "name": "python3"
  },
  "language_info": {
   "codemirror_mode": {
    "name": "ipython",
    "version": 3
   },
   "file_extension": ".py",
   "mimetype": "text/x-python",
   "name": "python",
   "nbconvert_exporter": "python",
   "pygments_lexer": "ipython3",
   "version": "3.6.9"
  }
 },
 "nbformat": 4,
 "nbformat_minor": 2
}
