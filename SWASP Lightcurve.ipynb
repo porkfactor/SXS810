{
 "cells": [
  {
   "cell_type": "code",
   "execution_count": null,
   "metadata": {},
   "outputs": [],
   "source": [
    "import numpy as np\n",
    "import matplotlib.pyplot as plt\n",
    "\n",
    "from astropy import units as u\n",
    "from astropy.timeseries import aggregate_downsample\n",
    "from astropy.stats import sigma_clipped_stats\n",
    "from astropy.timeseries import LombScargle\n",
    "from astropy.table import Table\n",
    "from astropy.time import Time\n",
    "from astropy.timeseries import TimeSeries\n",
    "from astropy.utils.data import get_pkg_data_filename"
   ]
  },
  {
   "cell_type": "code",
   "execution_count": null,
   "metadata": {},
   "outputs": [],
   "source": [
    "\"\"\"\n",
    "\"\"\"\n",
    "def boundify(a, sigma=2.0):\n",
    "    mean = a.mean()\n",
    "    dev = np.std(a)\n",
    "    \n",
    "    return (mean - (sigma * dev)).value, (mean + (sigma * dev)).value"
   ]
  },
  {
   "cell_type": "code",
   "execution_count": null,
   "metadata": {},
   "outputs": [],
   "source": [
    "filename = get_pkg_data_filename('/data/SuperWASP/1SWASP J144508.70+050514.4.fits')"
   ]
  },
  {
   "cell_type": "code",
   "execution_count": null,
   "metadata": {},
   "outputs": [],
   "source": [
    "t = Table.read(filename, hdu=1)\n",
    "# adjust timestamp to day units\n",
    "t['TMID'] = (t['TMID'] / 86400.0) + 2453005.5\n",
    "t['TMID'].unit = 'day'\n",
    "t['TAMFLUX2'].unit = 'mag'\n",
    "t['TAMFLUX2_ERR'].unit = 'mag'\n",
    "t['time'] = Time(t['TMID'], format='jd')\n",
    "t.keep_columns(['time', 'TAMFLUX2', 'TAMFLUX2_ERR'])"
   ]
  },
  {
   "cell_type": "code",
   "execution_count": null,
   "metadata": {},
   "outputs": [],
   "source": [
    "ts = TimeSeries(t)"
   ]
  },
  {
   "cell_type": "code",
   "execution_count": null,
   "metadata": {},
   "outputs": [],
   "source": [
    "plt.figure(figsize=(20,20))\n",
    "plt.plot(ts.time.jd, ts['TAMFLUX2'], 'k.', markersize=1)\n",
    "plt.xlabel('Julian Date')\n",
    "plt.ylabel('Flux (micro vega)')"
   ]
  },
  {
   "cell_type": "code",
   "execution_count": null,
   "metadata": {},
   "outputs": [],
   "source": [
    "min_period = 2.0 * u.hour\n",
    "max_period = 12.0 * u.hour\n",
    "\n",
    "periodogram = LombScargle.from_timeseries(\n",
    "    ts,\n",
    "    signal_column_name='TAMFLUX2',\n",
    "    uncertainty='TAMFLUX2_ERR',\n",
    "    nterms=6\n",
    ")\n",
    "\n",
    "frequency, power = periodogram.autopower(\n",
    "    nyquist_factor=5,\n",
    "    minimum_frequency=1.0 / (max_period.to(u.day)),\n",
    "    maximum_frequency=1.0 / (min_period.to(u.day)),\n",
    "    samples_per_peak=10\n",
    ")\n",
    "\n",
    "best = power.argmax()\n",
    "period = 1.0 / frequency[best]\n",
    "\n",
    "plt.plot(frequency, power)"
   ]
  },
  {
   "cell_type": "code",
   "execution_count": null,
   "metadata": {},
   "outputs": [],
   "source": [
    "# sort the power series from best to worst; this allows us to quickly try alternatives\n",
    "# alternatively just use power.argmax()\n",
    "sorted = power.argsort()[::-1]\n",
    "# convert to frequency\n",
    "period = 1.0 / frequency[sorted[0]]"
   ]
  },
  {
   "cell_type": "code",
   "execution_count": null,
   "metadata": {},
   "outputs": [],
   "source": [
    "# fold the lightcurve according to the selected period\n",
    "ts_folded = ts.fold(period=period, normalize_phase=False, wrap_phase=period)\n",
    "period.to(u.hour)"
   ]
  },
  {
   "cell_type": "code",
   "execution_count": null,
   "metadata": {},
   "outputs": [],
   "source": [
    "# plot the folded light-curve (single-phase)\n",
    "y_min, y_max = boundify(ts_folded['TAMFLUX2'])\n",
    "\n",
    "plt.figure(figsize=(20,20))\n",
    "plt.plot(ts_folded.time.jd, ts_folded['TAMFLUX2'], 'k.', markersize=1)\n",
    "plt.ylim(bottom=y_min, top=y_max)\n",
    "plt.xlabel('Phase')\n",
    "plt.ylabel('SAP Flux (e-/s)')"
   ]
  },
  {
   "cell_type": "code",
   "execution_count": null,
   "metadata": {},
   "outputs": [],
   "source": [
    "# calculate the mean\n",
    "mean, median, stddev = sigma_clipped_stats(ts_folded['TAMFLUX2'])\n",
    "ts_folded['FLUX2_NORM'] = ts_folded['TAMFLUX2'] #/ median\n",
    "ts_binned = aggregate_downsample(ts_folded, time_bin_size=0.001 * u.day)"
   ]
  },
  {
   "cell_type": "code",
   "execution_count": null,
   "metadata": {},
   "outputs": [],
   "source": [
    "# now chart the light-curve\n",
    "y_min, y_max = boundify(ts_folded['FLUX2_NORM'])\n",
    "\n",
    "plt.figure(figsize=(20,20))\n",
    "# draw 2 phases of the base light-curve\n",
    "plt.plot((ts_folded.time.jd / period.to(u.day)).value, ts_folded['FLUX2_NORM'], 'k.', markersize=1)\n",
    "plt.plot((ts_folded.time.jd / period.to(u.day)).value - 1.0, ts_folded['FLUX2_NORM'], 'k.', markersize=1)\n",
    "# draw 2 phases of the mean \n",
    "plt.plot((ts_binned.time_bin_start.jd / period.to(u.day)).value, ts_binned['FLUX2_NORM'], 'r-', drawstyle='steps', markersize=1)\n",
    "plt.plot((ts_binned.time_bin_start.jd / period.to(u.day)).value - 1.0, ts_binned['FLUX2_NORM'], 'r-', drawstyle='steps', markersize=1)\n",
    "plt.ylim(bottom=y_min, top=y_max)\n",
    "plt.xlabel('Phase')\n",
    "plt.ylabel('Flux (micro vega)')"
   ]
  },
  {
   "cell_type": "code",
   "execution_count": null,
   "metadata": {},
   "outputs": [],
   "source": []
  }
 ],
 "metadata": {
  "kernelspec": {
   "display_name": "Python 3",
   "language": "python",
   "name": "python3"
  },
  "language_info": {
   "codemirror_mode": {
    "name": "ipython",
    "version": 3
   },
   "file_extension": ".py",
   "mimetype": "text/x-python",
   "name": "python",
   "nbconvert_exporter": "python",
   "pygments_lexer": "ipython3",
   "version": "3.6.9"
  }
 },
 "nbformat": 4,
 "nbformat_minor": 2
}
