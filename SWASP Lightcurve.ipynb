{
 "cells": [
  {
   "cell_type": "code",
   "execution_count": null,
   "metadata": {},
   "outputs": [],
   "source": [
    "import numpy as np\n",
    "import matplotlib.pyplot as plt\n",
    "from astropy import units as u\n",
    "from astropy.utils.data import get_pkg_data_filename\n",
    "from pathlib import Path\n",
    "\n",
    "from superwasp import lightcurve"
   ]
  },
  {
   "cell_type": "code",
   "execution_count": null,
   "metadata": {},
   "outputs": [],
   "source": [
    "%matplotlib inline\n",
    "plt.style.use('guide.mplstyle')"
   ]
  },
  {
   "cell_type": "code",
   "execution_count": null,
   "metadata": {},
   "outputs": [],
   "source": [
    "object1_name = 'CRTS J144508.6+050514'\n",
    "object2_name = 'CRTS J092751.8-040759'\n",
    "path1 = Path('/data/SuperWASP/1SWASP J144508.70+050514.4.fits')\n",
    "path2 = Path('/data/SuperWASP/1SWASP J092751.85-040759.8.fits')"
   ]
  },
  {
   "cell_type": "code",
   "execution_count": null,
   "metadata": {},
   "outputs": [],
   "source": [
    "lc1 = lightcurve(path1, period=None, normalize_phase=False)\n",
    "lc2 = lightcurve(path2, period=None, normalize_phase=False)"
   ]
  },
  {
   "cell_type": "code",
   "execution_count": null,
   "metadata": {},
   "outputs": [],
   "source": [
    "fig1, ax1 = lc1.plot_magnitude(show_mean=True)\n",
    "ax1.invert_yaxis()\n",
    "ax1.set_xlabel('Phase')\n",
    "ax1.set_ylabel('Magnitude')\n",
    "ax1.set_title(object1_name + ', period = ' + str(lc1.period.to(u.day)))"
   ]
  },
  {
   "cell_type": "code",
   "execution_count": null,
   "metadata": {},
   "outputs": [],
   "source": [
    "fig2, ax2 = lc2.plot_magnitude(show_mean=True)\n",
    "ax2.invert_yaxis()\n",
    "ax2.set_xlabel('Phase')\n",
    "ax2.set_ylabel('Magnitude')\n",
    "ax2.set_title(object2_name + ', period = ' + str(lc2.period.to(u.day)))"
   ]
  },
  {
   "cell_type": "code",
   "execution_count": null,
   "metadata": {},
   "outputs": [],
   "source": [
    "lc1.export_csv(path1.with_suffix('.csv'), format='ascii.csv', overwrite=True, delimiter=',')\n",
    "lc2.export_csv(path2.with_suffix('.csv'), format='ascii.csv', overwrite=True, delimiter=',')"
   ]
  },
  {
   "cell_type": "code",
   "execution_count": null,
   "metadata": {},
   "outputs": [],
   "source": [
    "fig1.savefig(path1.with_suffix('.png'), format='png')\n",
    "fig2.savefig(path2.with_suffix('.png'), format='png')"
   ]
  },
  {
   "cell_type": "code",
   "execution_count": null,
   "metadata": {},
   "outputs": [],
   "source": [
    "print(lc1.period.to(u.hour))\n",
    "#lc2.period.to(u.day)"
   ]
  },
  {
   "cell_type": "code",
   "execution_count": null,
   "metadata": {},
   "outputs": [],
   "source": [
    "lc1.export_phoebe_gui(path1.with_suffix('.phoebe'), format='ascii.csv', delimiter=' ')\n",
    "lc2.export_phoebe_gui(path2.with_suffix('.phoebe'), format='ascii.csv', delimiter=' ')"
   ]
  },
  {
   "cell_type": "code",
   "execution_count": null,
   "metadata": {},
   "outputs": [],
   "source": []
  }
 ],
 "metadata": {
  "kernelspec": {
   "display_name": "Python 3",
   "language": "python",
   "name": "python3"
  },
  "language_info": {
   "codemirror_mode": {
    "name": "ipython",
    "version": 3
   },
   "file_extension": ".py",
   "mimetype": "text/x-python",
   "name": "python",
   "nbconvert_exporter": "python",
   "pygments_lexer": "ipython3",
   "version": "3.6.9"
  }
 },
 "nbformat": 4,
 "nbformat_minor": 2
}
