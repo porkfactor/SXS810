{
 "cells": [
  {
   "cell_type": "code",
   "execution_count": null,
   "metadata": {},
   "outputs": [],
   "source": [
    "from pathlib import Path\n",
    "from astropy import units as u\n",
    "from astropy.stats import sigma_clipped_stats\n",
    "from astropy.table import Table\n",
    "from astropy.time import Time\n",
    "from astropy.timeseries import aggregate_downsample\n",
    "from astropy.timeseries import TimeSeries\n",
    "\n",
    "import re\n",
    "import matplotlib.pyplot as plt\n",
    "import numpy as np"
   ]
  },
  {
   "cell_type": "code",
   "execution_count": null,
   "metadata": {},
   "outputs": [],
   "source": [
    "def boundify(a, sigma=2.0):\n",
    "    mean = a.mean()\n",
    "    dev = np.std(a)\n",
    "    \n",
    "    return (mean - (sigma * dev)).value, (mean + (sigma * dev)).value\n",
    "\n",
    "def check_filter(labels):\n",
    "    values = []\n",
    "    \n",
    "    for label in labels:\n",
    "        if re.match(r'.*_B[0-9]+_.*', str(label)):\n",
    "            values.append('Blue')\n",
    "        elif re.match(r'.*_V[0-9]+_.*', str(label)):\n",
    "            values.append('Green')\n",
    "        elif re.match(r'.*_R[0-9]+_.*', str(label)):\n",
    "            values.append('Red')\n",
    "        else:\n",
    "            values.append('Unknown')\n",
    "    \n",
    "    return values\n"
   ]
  },
  {
   "cell_type": "code",
   "execution_count": null,
   "metadata": {},
   "outputs": [],
   "source": [
    "# constants\n",
    "working_directory = Path('/home/localadmin')\n",
    "csv_data = working_directory / 'measurements.csv'\n",
    "swasp_data = working_directory / ''\n",
    "\n",
    "# TODO: automatically infer this from the FITS data\n",
    "period = 10.903858 * u.hour"
   ]
  },
  {
   "cell_type": "code",
   "execution_count": null,
   "metadata": {},
   "outputs": [],
   "source": [
    "t = Table.read(csv_data, format='ascii.csv', delimiter='\\t', fast_reader=False)\n",
    "# curate columns\n",
    "t['JD_UTC'].unit = u.day\n",
    "t['time'] = Time(t['JD_UTC'], format='jd')\n",
    "t['filter'] = check_filter(t['Label'])\n",
    "\n",
    "for row in t:\n",
    "    check_filter(row)\n",
    "\n",
    "# remove unwanted data\n",
    "t.keep_columns(['time','rel_flux_T1', 'rel_flux_err_T1', 'filter'])\n",
    "t['rel_flux_T1'].unit = 'mag'"
   ]
  },
  {
   "cell_type": "code",
   "execution_count": null,
   "metadata": {},
   "outputs": [],
   "source": [
    "ts = TimeSeries(t)\n",
    "t"
   ]
  },
  {
   "cell_type": "code",
   "execution_count": null,
   "metadata": {},
   "outputs": [],
   "source": [
    "ts_folded = ts.fold(period=period)\n",
    "ts_folded.sort('time')\n",
    "\n",
    "period.to(u.hour)"
   ]
  },
  {
   "cell_type": "code",
   "execution_count": null,
   "metadata": {},
   "outputs": [],
   "source": [
    "y_min, y_max = boundify(ts_folded['rel_flux_T1'])\n",
    "\n",
    "plt.figure(figsize=(20,20))\n",
    "plt.plot(ts_folded.time.jd, ts_folded['rel_flux_T1'], 'k.', markersize=5, linestyle=':')\n",
    "plt.ylim(bottom=y_min, top=y_max)\n",
    "plt.xlabel('Time (days)')\n",
    "plt.ylabel('SAP Flux (e-/s)')"
   ]
  },
  {
   "cell_type": "code",
   "execution_count": null,
   "metadata": {},
   "outputs": [],
   "source": [
    "mean, median, stddev = sigma_clipped_stats(ts_folded['rel_flux_T1'])  \n",
    "ts_folded['norm_flux_T1'] = ts_folded['rel_flux_T1'] / median\n",
    "# ts_binned = aggregate_downsample(ts_folded, time_bin_size=0.001 * u.day) "
   ]
  },
  {
   "cell_type": "code",
   "execution_count": null,
   "metadata": {},
   "outputs": [],
   "source": [
    "ts_red = ts_folded[ts_folded['filter'] == 'Red']\n",
    "ts_green = ts_folded[ts_folded['filter'] == 'Green']\n",
    "ts_blue = ts_folded[ts_folded['filter'] == 'Blue']\n"
   ]
  },
  {
   "cell_type": "code",
   "execution_count": null,
   "metadata": {},
   "outputs": [],
   "source": [
    "y_min, y_max = boundify(ts_folded['norm_flux_T1'])\n",
    "\n",
    "plt.figure(figsize=(20,20))\n",
    "plt.plot(ts_red.time.jd, ts_red['norm_flux_T1'], 'r.', markersize=5, linestyle=':')\n",
    "plt.plot(ts_green.time.jd, ts_green['norm_flux_T1'], 'g.', markersize=5, linestyle=':')\n",
    "plt.plot(ts_blue.time.jd, ts_blue['norm_flux_T1'], 'b.', markersize=5, linestyle=':')\n",
    "\n",
    "plt.ylim(bottom=y_min, top=y_max)\n",
    "plt.xlabel('Time (days)')\n",
    "plt.ylabel('Normalized flux')"
   ]
  },
  {
   "cell_type": "code",
   "execution_count": null,
   "metadata": {},
   "outputs": [],
   "source": []
  }
 ],
 "metadata": {
  "kernelspec": {
   "display_name": "Python 3",
   "language": "python",
   "name": "python3"
  },
  "language_info": {
   "codemirror_mode": {
    "name": "ipython",
    "version": 3
   },
   "file_extension": ".py",
   "mimetype": "text/x-python",
   "name": "python",
   "nbconvert_exporter": "python",
   "pygments_lexer": "ipython3",
   "version": "3.6.9"
  }
 },
 "nbformat": 4,
 "nbformat_minor": 2
}
