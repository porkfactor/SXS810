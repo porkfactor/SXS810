{
 "cells": [
  {
   "cell_type": "code",
   "execution_count": null,
   "metadata": {},
   "outputs": [],
   "source": [
    "from pathlib import Path\n",
    "from astropy import units as u\n",
    "from astropy.stats import sigma_clipped_stats\n",
    "from astropy.table import Table\n",
    "from astropy.time import Time\n",
    "from astropy.timeseries import aggregate_downsample\n",
    "from astropy.timeseries import TimeSeries\n",
    "from astropy.timeseries import BinnedTimeSeries\n",
    "\n",
    "import re\n",
    "import matplotlib.pyplot as plt\n",
    "import numpy as np"
   ]
  },
  {
   "cell_type": "code",
   "execution_count": null,
   "metadata": {},
   "outputs": [],
   "source": [
    "def boundify(a, sigma=2.0):\n",
    "    mean = a.mean()\n",
    "    dev = np.std(a)\n",
    "    \n",
    "    return (mean - (sigma * dev)).value, (mean + (sigma * dev)).value\n",
    "\n",
    "def filter_nan(ts, filter_column):\n",
    "    nans = np.isnan(ts[filter_column].data)\n",
    "    return ts[~nans]\n",
    "\n",
    "def filter_inf(ts, filter_column):\n",
    "    infs = np.isinf(ts[filter_column].data)\n",
    "    return ts[~infs]\n",
    "\n",
    "def check_filter(labels):\n",
    "    values = []\n",
    "    \n",
    "    for label in labels:\n",
    "        if re.match(r'.*_B[0-9]+_.*', str(label)):\n",
    "            values.append('Blue')\n",
    "        elif re.match(r'.*_V[0-9]+_.*', str(label)):\n",
    "            values.append('Green')\n",
    "        elif re.match(r'.*_R[0-9]+_.*', str(label)):\n",
    "            values.append('Red')\n",
    "        else:\n",
    "            values.append('Unknown')\n",
    "    \n",
    "    return values\n",
    "\n",
    "plot_value = 'Source_AMag_T1'\n",
    "plot_sigma = 'Source_AMag_Err_T1'"
   ]
  },
  {
   "cell_type": "code",
   "execution_count": null,
   "metadata": {},
   "outputs": [],
   "source": [
    "# constants\n",
    "object_name = 'CRTS J144508.6+050514'\n",
    "working_directory = Path('/data/PIRATE/FITS/') / object_name\n",
    "csv_data = working_directory / 'measurements.csv'\n",
    "\n",
    "# TODO: automatically infer this from the FITS data\n",
    "period = 10.903857574156442 * u.hour\n",
    "\n",
    "plt.style.use('guide.mplstyle')"
   ]
  },
  {
   "cell_type": "code",
   "execution_count": null,
   "metadata": {},
   "outputs": [],
   "source": [
    "t = Table.read(csv_data, format='ascii.csv', delimiter=',', fast_reader=False)\n",
    "# curate columns\n",
    "t['JD_UTC'].unit = u.day\n",
    "t['time'] = Time(t['JD_UTC'], format='jd')\n",
    "t['filter'] = check_filter(t['Label'])\n",
    "\n",
    "for row in t:\n",
    "    check_filter(row)\n",
    "\n",
    "# remove unwanted data\n",
    "t.keep_columns(['time','rel_flux_T1', 'rel_flux_err_T1', 'Source_AMag_T1', 'Source_AMag_Err_T1', 'Source_SNR_T1', 'filter'])\n",
    "t['rel_flux_T1'].unit = 'electron/s'\n",
    "t['rel_flux_err_T1'].unit = 'electron/s'\n",
    "t['Source_AMag_T1'].unit = 'mag'\n",
    "t['Source_AMag_Err_T1'].unit = 'mag'"
   ]
  },
  {
   "cell_type": "code",
   "execution_count": null,
   "metadata": {},
   "outputs": [],
   "source": [
    "ts = TimeSeries(t)\n",
    "t"
   ]
  },
  {
   "cell_type": "code",
   "execution_count": null,
   "metadata": {},
   "outputs": [],
   "source": [
    "ts_folded = ts.fold(\n",
    "    period=period,\n",
    "    normalize_phase=False,\n",
    "    wrap_phase=period,\n",
    "    epoch_phase=0.2 * period)\n",
    "ts_folded = filter_nan(ts_folded, plot_value)\n",
    "ts_folded = filter_inf(ts_folded, plot_value)\n",
    "#ts_folded.sort('time')\n",
    "\n",
    "print(period.to(u.day))"
   ]
  },
  {
   "cell_type": "code",
   "execution_count": null,
   "metadata": {},
   "outputs": [],
   "source": [
    "y_min, y_max = boundify(ts_folded[plot_value])\n",
    "#y_min = 0.00\n",
    "#y_max = 0.02\n",
    "\n",
    "kwargs = { 'markersize': 3, 'marker': '^', 'linestyle': '' }\n",
    "\n",
    "plt.figure(figsize=(20,20))\n",
    "plt.plot((ts_folded.time.jd / period.to(u.day)).value, ts_folded[plot_value], 'k.', **kwargs)\n",
    "plt.plot((ts_folded.time.jd / period.to(u.day)).value - 1.0, ts_folded[plot_value], 'k.', **kwargs)\n",
    "plt.ylim(bottom=y_min, top=y_max)\n",
    "plt.xlabel('Phase')\n",
    "plt.ylabel('Magnitude')"
   ]
  },
  {
   "cell_type": "code",
   "execution_count": null,
   "metadata": {},
   "outputs": [],
   "source": [
    "# seperate the colour channels\n",
    "ts_red = filter_inf(ts_folded[ts_folded['filter'] == 'Red'], plot_value)\n",
    "ts_green = filter_inf(ts_folded[ts_folded['filter'] == 'Green'], plot_value)\n",
    "ts_blue = filter_inf(ts_folded[ts_folded['filter'] == 'Blue'], plot_value)\n",
    "\n",
    "ts_red = filter_nan(ts_red, plot_value)\n",
    "ts_green = filter_nan(ts_green, plot_value)\n",
    "ts_blue = filter_nan(ts_blue, plot_value)\n",
    "\n",
    "#ts_red.keep_columns(['time', 'Source_AMag_T1', 'Source_AMag_Err_T1'])\n",
    "#ts_green.keep_columns(['time', 'Source_AMag_T1', 'Source_AMag_Err_T1'])\n",
    "#ts_blue.keep_columns(['time', 'Source_AMag_T1', 'Source_AMag_Err_T1'])\n"
   ]
  },
  {
   "cell_type": "code",
   "execution_count": null,
   "metadata": {},
   "outputs": [],
   "source": [
    "y_min, y_max = boundify(ts_folded[plot_value], sigma=3)\n",
    "#y_min = 12.5\n",
    "#y_max = 14.0\n",
    "\n",
    "fig = plt.figure(figsize=(20,20))\n",
    "\n",
    "xlabel = 'Phase'\n",
    "ylabel = 'Magnitude'\n",
    "kwargs = { 'markersize': 3, 'marker': '^', 'linestyle': '' }\n",
    "\n",
    "ax1 = fig.add_subplot(411)\n",
    "#ax1.plot(ts_red.time, ts_red[plot_value].value, 'r.', **kwargs)\n",
    "#ax1.plot(ts_red.time - 1.0, ts_red[plot_value].value, 'r.', **kwargs)\n",
    "ax1.plot((ts_red.time.jd / period.to(u.day)).value, ts_red[plot_value].value, 'r.', **kwargs)\n",
    "ax1.plot((ts_red.time.jd / period.to(u.day)).value - 1.0, ts_red[plot_value].value, 'r.', **kwargs)\n",
    "#ax1.plot((ts_red_mean.time_bin_start.jd / period.to(u.day)).value, ts_red_mean[plot_value].value, 'k.', **kwargs)\n",
    "#ax1.plot((ts_red_mean.time_bin_start.jd / period.to(u.day)).value - 1.0, ts_red_mean[plot_value].value, 'k.', **kwargs)\n",
    "ax1.set_ylim(y_min, y_max)\n",
    "ax1.set_xlabel(xlabel)\n",
    "ax1.set_ylabel(ylabel)\n",
    "ax1.invert_yaxis()\n",
    "\n",
    "ax2 = fig.add_subplot(412)\n",
    "#ax2.plot(ts_green.time, ts_green[plot_value].value, 'g.', **kwargs)\n",
    "#ax2.plot(ts_green.time - 1.0, ts_green[plot_value].value, 'g.', **kwargs)\n",
    "ax2.plot((ts_green.time.jd / period.to(u.day)).value, ts_green[plot_value].value, 'g.', **kwargs)\n",
    "ax2.plot((ts_green.time.jd / period.to(u.day)).value - 1.0, ts_green[plot_value].value, 'g.', **kwargs)\n",
    "#ax2.plot((ts_green_mean.time_bin_start.jd / period.to(u.day)).value, ts_green_mean[plot_value].value, 'k.', **kwargs)\n",
    "#ax2.plot((ts_green_mean.time_bin_start.jd / period.to(u.day)).value - 1.0, ts_green_mean[plot_value].value, 'k.', **kwargs)\n",
    "ax2.set_ylim(y_min, y_max)\n",
    "ax2.set_xlabel(xlabel)\n",
    "ax2.set_ylabel(ylabel)\n",
    "ax2.invert_yaxis()\n",
    "\n",
    "ax3 = fig.add_subplot(413)\n",
    "#ax3.plot(ts_blue.time, ts_blue[plot_value].value, 'b.', **kwargs)\n",
    "#ax3.plot(ts_blue.time - 1.0, ts_blue[plot_value].value, 'b.', **kwargs)\n",
    "ax3.plot((ts_blue.time.jd / period.to(u.day)).value, ts_blue[plot_value].value, 'b.', **kwargs)\n",
    "ax3.plot((ts_blue.time.jd / period.to(u.day)).value - 1.0, ts_blue[plot_value].value, 'b.', **kwargs)\n",
    "#ax3.plot((ts_blue_mean.time_bin_start.jd / period.to(u.day)).value, ts_blue_mean[plot_value].value, 'k.', **kwargs)\n",
    "#ax3.plot((ts_blue_mean.time_bin_start.jd / period.to(u.day)).value - 1.0, ts_blue_mean[plot_value].value, 'k.', **kwargs)\n",
    "ax3.set_ylim(y_min, y_max)\n",
    "ax3.set_xlabel(xlabel)\n",
    "ax3.set_ylabel(ylabel)\n",
    "ax3.invert_yaxis()\n",
    "\n",
    "ax4 = fig.add_subplot(414)\n",
    "#ax4.plot(ts_red.time, ts_red[plot_value].value, 'r.', **kwargs)\n",
    "#ax4.plot(ts_red.time - 1.0, ts_red[plot_value].value, 'r.', **kwargs)\n",
    "#ax4.plot(ts_green.time, ts_green[plot_value].value, 'g.', **kwargs)\n",
    "#ax4.plot(ts_green.time - 1.0, ts_green[plot_value].value, 'g.', **kwargs)\n",
    "#ax4.plot(ts_blue.time, ts_blue[plot_value].value, 'b.', **kwargs)\n",
    "#ax4.plot(ts_blue.time - 1.0, ts_blue[plot_value].value, 'b.', **kwargs)\n",
    "ax4.plot((ts_red.time.jd / period.to(u.day)).value, ts_red[plot_value].value, 'r.', **kwargs)\n",
    "ax4.plot((ts_red.time.jd / period.to(u.day)).value - 1.0, ts_red[plot_value].value, 'r.', **kwargs)\n",
    "ax4.plot((ts_green.time.jd / period.to(u.day)).value, ts_green[plot_value].value, 'g.', **kwargs)\n",
    "ax4.plot((ts_green.time.jd / period.to(u.day)).value - 1.0, ts_green[plot_value].value, 'g.', **kwargs)\n",
    "ax4.plot((ts_blue.time.jd / period.to(u.day)).value, ts_blue[plot_value].value, 'b.', **kwargs)\n",
    "ax4.plot((ts_blue.time.jd / period.to(u.day)).value - 1.0, ts_blue[plot_value].value, 'b.', **kwargs)\n",
    "ax4.set_ylim(y_min, y_max)\n",
    "ax4.set_xlabel(xlabel)\n",
    "ax4.set_ylabel(ylabel)\n",
    "ax4.invert_yaxis()\n",
    "\n",
    "fig.show()"
   ]
  },
  {
   "cell_type": "code",
   "execution_count": null,
   "metadata": {},
   "outputs": [],
   "source": [
    "fig.savefig(working_directory / (object_name + '.png'), format='png')"
   ]
  },
  {
   "cell_type": "code",
   "execution_count": null,
   "metadata": {},
   "outputs": [],
   "source": [
    "r_mag = ts_red[plot_value].min()\n",
    "v_mag = ts_green[plot_value].min()\n",
    "b_mag = ts_blue[plot_value].min()\n",
    "\n",
    "print('R = ', r_mag)\n",
    "print('V = ', v_mag)\n",
    "print('B = ', b_mag)\n",
    "print('B-V = ', b_mag - v_mag)\n",
    "print('V-R = ', v_mag - r_mag)\n",
    "\n",
    "print('Teff = ', np.power(10, ((b_mag.value - v_mag.value - 14.551) / -3.684)))\n",
    "print('Teff = ', 4600.0 * ((1.0/((0.92 * (b_mag.value - v_mag.value)) + 1.7)) + (1.0/((0.92 * (b_mag.value - v_mag.value)) + 0.62))))"
   ]
  },
  {
   "cell_type": "code",
   "execution_count": null,
   "metadata": {},
   "outputs": [],
   "source": [
    "nbins = 20\n",
    "ts_red_binned = BinnedTimeSeries(ts_red, time_bin_start=ts_red.time[0], time_bin_end=ts_red.time[0] + period, time_bin_size=period / nbins)\n",
    "ts_green_binned = BinnedTimeSeries(ts_green, time_bin_start=ts_green.time[0], time_bin_end=ts_red.time[0] + period, time_bin_size=period / nbins)\n",
    "ts_blue_binned = BinnedTimeSeries(ts_blue, time_bin_start=ts_blue.time[0], time_bin_end=ts_blue.time[0] + period, time_bin_size=period / nbins)\n",
    "\n"
   ]
  },
  {
   "cell_type": "code",
   "execution_count": null,
   "metadata": {},
   "outputs": [],
   "source": [
    "export_columns=['time', 'Source_AMag_T1', 'Source_AMag_Err_T1']\n",
    "\n",
    "ts_red[export_columns].write(working_directory / 'red.phoebe', format='ascii.csv', delimiter=' ')\n",
    "ts_green[export_columns].write(working_directory / 'green.phoebe', format='ascii.csv', delimiter=' ')\n",
    "ts_blue[export_columns].write(working_directory / 'blue.phoebe', format='ascii.csv', delimiter=' ')\n",
    "\n",
    "ts_bv = ts_red\n",
    "ts_bv[plot_value] = "
   ]
  },
  {
   "cell_type": "code",
   "execution_count": null,
   "metadata": {},
   "outputs": [],
   "source": []
  }
 ],
 "metadata": {
  "kernelspec": {
   "display_name": "Python 3",
   "language": "python",
   "name": "python3"
  },
  "language_info": {
   "codemirror_mode": {
    "name": "ipython",
    "version": 3
   },
   "file_extension": ".py",
   "mimetype": "text/x-python",
   "name": "python",
   "nbconvert_exporter": "python",
   "pygments_lexer": "ipython3",
   "version": "3.6.9"
  }
 },
 "nbformat": 4,
 "nbformat_minor": 2
}
