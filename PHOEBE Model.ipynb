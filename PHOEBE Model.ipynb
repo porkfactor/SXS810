{
 "cells": [
  {
   "cell_type": "code",
   "execution_count": 1,
   "metadata": {},
   "outputs": [],
   "source": [
    "import phoebe\n",
    "import numpy as np\n",
    "import matplotlib.pyplot as plt\n",
    "\n",
    "from astropy import units as u"
   ]
  },
  {
   "cell_type": "code",
   "execution_count": 2,
   "metadata": {},
   "outputs": [],
   "source": [
    "filename='/data/SuperWASP/1SWASP J144508.70+050514.4.csv'"
   ]
  },
  {
   "cell_type": "code",
   "execution_count": 3,
   "metadata": {},
   "outputs": [],
   "source": [
    "times, fluxes, sigmas = np.loadtxt(\n",
    "    filename,\n",
    "    dtype={\n",
    "        'names': ('time', 'FLUX2', 'FLUX2_ERR'),\n",
    "        'formats': ('f4', 'f4', 'f4'),\n",
    "    },\n",
    "    unpack=True,\n",
    "    delimiter=',',\n",
    "    usecols=(0,2,3),\n",
    "    skiprows=1\n",
    ")\n",
    "\n",
    "mags = 15.0 - 2.5 * np.log10(fluxes)\n",
    "mag_errs = 1.08574 * sigmas\n"
   ]
  },
  {
   "cell_type": "code",
   "execution_count": 6,
   "metadata": {},
   "outputs": [
    {
     "name": "stderr",
     "output_type": "stream",
     "text": [
      "Sat, 27 Jun 2020 14:18 PASSBANDS    WARNING connection to online passbands at http://tables.phoebe-project.org could not be established.  Check your internet connection or try again later.  If the problem persists and you're using a Mac, you may need to update openssl (see http://phoebe-project.org/help/faq). Original error from urlopen: HTTPError HTTP Error 500: Internal Server Error\n",
      "Sat, 27 Jun 2020 14:18 PASSBANDS    WARNING connection to online passbands at http://tables.phoebe-project.org could not be established.  Check your internet connection or try again later.  If the problem persists and you're using a Mac, you may need to update openssl (see http://phoebe-project.org/help/faq). Original error from urlopen: HTTPError HTTP Error 500: Internal Server Error\n",
      "Sat, 27 Jun 2020 14:18 PASSBANDS    WARNING connection to online passbands at http://tables.phoebe-project.org could not be established.  Check your internet connection or try again later.  If the problem persists and you're using a Mac, you may need to update openssl (see http://phoebe-project.org/help/faq). Original error from urlopen: HTTPError HTTP Error 500: Internal Server Error\n",
      "Sat, 27 Jun 2020 14:18 PASSBANDS    WARNING connection to online passbands at http://tables.phoebe-project.org could not be established.  Check your internet connection or try again later.  If the problem persists and you're using a Mac, you may need to update openssl (see http://phoebe-project.org/help/faq). Original error from urlopen: HTTPError HTTP Error 500: Internal Server Error\n",
      "Sat, 27 Jun 2020 14:18 PASSBANDS    WARNING connection to online passbands at http://tables.phoebe-project.org could not be established.  Check your internet connection or try again later.  If the problem persists and you're using a Mac, you may need to update openssl (see http://phoebe-project.org/help/faq). Original error from urlopen: HTTPError HTTP Error 500: Internal Server Error\n",
      "Sat, 27 Jun 2020 14:18 PASSBANDS    WARNING connection to online passbands at http://tables.phoebe-project.org could not be established.  Check your internet connection or try again later.  If the problem persists and you're using a Mac, you may need to update openssl (see http://phoebe-project.org/help/faq). Original error from urlopen: HTTPError HTTP Error 500: Internal Server Error\n",
      "Sat, 27 Jun 2020 14:18 PASSBANDS    WARNING connection to online passbands at http://tables.phoebe-project.org could not be established.  Check your internet connection or try again later.  If the problem persists and you're using a Mac, you may need to update openssl (see http://phoebe-project.org/help/faq). Original error from urlopen: HTTPError HTTP Error 500: Internal Server Error\n",
      "Sat, 27 Jun 2020 14:18 PASSBANDS    WARNING connection to online passbands at http://tables.phoebe-project.org could not be established.  Check your internet connection or try again later.  If the problem persists and you're using a Mac, you may need to update openssl (see http://phoebe-project.org/help/faq). Original error from urlopen: HTTPError HTTP Error 500: Internal Server Error\n",
      "Sat, 27 Jun 2020 14:18 PASSBANDS    WARNING connection to online passbands at http://tables.phoebe-project.org could not be established.  Check your internet connection or try again later.  If the problem persists and you're using a Mac, you may need to update openssl (see http://phoebe-project.org/help/faq). Original error from urlopen: HTTPError HTTP Error 500: Internal Server Error\n",
      "Sat, 27 Jun 2020 14:18 PASSBANDS    WARNING connection to online passbands at http://tables.phoebe-project.org could not be established.  Check your internet connection or try again later.  If the problem persists and you're using a Mac, you may need to update openssl (see http://phoebe-project.org/help/faq). Original error from urlopen: HTTPError HTTP Error 500: Internal Server Error\n",
      "Sat, 27 Jun 2020 14:18 PASSBANDS    WARNING connection to online passbands at http://tables.phoebe-project.org could not be established.  Check your internet connection or try again later.  If the problem persists and you're using a Mac, you may need to update openssl (see http://phoebe-project.org/help/faq). Original error from urlopen: HTTPError HTTP Error 500: Internal Server Error\n",
      "Sat, 27 Jun 2020 14:18 PASSBANDS    WARNING connection to online passbands at http://tables.phoebe-project.org could not be established.  Check your internet connection or try again later.  If the problem persists and you're using a Mac, you may need to update openssl (see http://phoebe-project.org/help/faq). Original error from urlopen: HTTPError HTTP Error 500: Internal Server Error\n",
      "Sat, 27 Jun 2020 14:18 PASSBANDS    WARNING connection to online passbands at http://tables.phoebe-project.org could not be established.  Check your internet connection or try again later.  If the problem persists and you're using a Mac, you may need to update openssl (see http://phoebe-project.org/help/faq). Original error from urlopen: HTTPError HTTP Error 500: Internal Server Error\n",
      "Sat, 27 Jun 2020 14:18 PASSBANDS    WARNING connection to online passbands at http://tables.phoebe-project.org could not be established.  Check your internet connection or try again later.  If the problem persists and you're using a Mac, you may need to update openssl (see http://phoebe-project.org/help/faq). Original error from urlopen: HTTPError HTTP Error 500: Internal Server Error\n",
      "Sat, 27 Jun 2020 14:18 PASSBANDS    WARNING connection to online passbands at http://tables.phoebe-project.org could not be established.  Check your internet connection or try again later.  If the problem persists and you're using a Mac, you may need to update openssl (see http://phoebe-project.org/help/faq). Original error from urlopen: HTTPError HTTP Error 500: Internal Server Error\n",
      "Sat, 27 Jun 2020 14:18 PASSBANDS    WARNING connection to online passbands at http://tables.phoebe-project.org could not be established.  Check your internet connection or try again later.  If the problem persists and you're using a Mac, you may need to update openssl (see http://phoebe-project.org/help/faq). Original error from urlopen: HTTPError HTTP Error 500: Internal Server Error\n",
      "Sat, 27 Jun 2020 14:18 PASSBANDS    WARNING connection to online passbands at http://tables.phoebe-project.org could not be established.  Check your internet connection or try again later.  If the problem persists and you're using a Mac, you may need to update openssl (see http://phoebe-project.org/help/faq). Original error from urlopen: HTTPError HTTP Error 500: Internal Server Error\n",
      "Sat, 27 Jun 2020 14:18 PASSBANDS    WARNING connection to online passbands at http://tables.phoebe-project.org could not be established.  Check your internet connection or try again later.  If the problem persists and you're using a Mac, you may need to update openssl (see http://phoebe-project.org/help/faq). Original error from urlopen: HTTPError HTTP Error 500: Internal Server Error\n",
      "Sat, 27 Jun 2020 14:18 PASSBANDS    WARNING connection to online passbands at http://tables.phoebe-project.org could not be established.  Check your internet connection or try again later.  If the problem persists and you're using a Mac, you may need to update openssl (see http://phoebe-project.org/help/faq). Original error from urlopen: HTTPError HTTP Error 500: Internal Server Error\n",
      "Sat, 27 Jun 2020 14:18 PASSBANDS    WARNING connection to online passbands at http://tables.phoebe-project.org could not be established.  Check your internet connection or try again later.  If the problem persists and you're using a Mac, you may need to update openssl (see http://phoebe-project.org/help/faq). Original error from urlopen: HTTPError HTTP Error 500: Internal Server Error\n",
      "Sat, 27 Jun 2020 14:18 PASSBANDS    WARNING connection to online passbands at http://tables.phoebe-project.org could not be established.  Check your internet connection or try again later.  If the problem persists and you're using a Mac, you may need to update openssl (see http://phoebe-project.org/help/faq). Original error from urlopen: HTTPError HTTP Error 500: Internal Server Error\n",
      "Sat, 27 Jun 2020 14:18 PASSBANDS    WARNING connection to online passbands at http://tables.phoebe-project.org could not be established.  Check your internet connection or try again later.  If the problem persists and you're using a Mac, you may need to update openssl (see http://phoebe-project.org/help/faq). Original error from urlopen: HTTPError HTTP Error 500: Internal Server Error\n"
     ]
    },
    {
     "name": "stderr",
     "output_type": "stream",
     "text": [
      "Sat, 27 Jun 2020 14:18 PASSBANDS    WARNING connection to online passbands at http://tables.phoebe-project.org could not be established.  Check your internet connection or try again later.  If the problem persists and you're using a Mac, you may need to update openssl (see http://phoebe-project.org/help/faq). Original error from urlopen: HTTPError HTTP Error 500: Internal Server Error\n",
      "Sat, 27 Jun 2020 14:18 PASSBANDS    WARNING connection to online passbands at http://tables.phoebe-project.org could not be established.  Check your internet connection or try again later.  If the problem persists and you're using a Mac, you may need to update openssl (see http://phoebe-project.org/help/faq). Original error from urlopen: HTTPError HTTP Error 500: Internal Server Error\n",
      "Sat, 27 Jun 2020 14:18 PASSBANDS    WARNING connection to online passbands at http://tables.phoebe-project.org could not be established.  Check your internet connection or try again later.  If the problem persists and you're using a Mac, you may need to update openssl (see http://phoebe-project.org/help/faq). Original error from urlopen: HTTPError HTTP Error 500: Internal Server Error\n",
      "Sat, 27 Jun 2020 14:18 PASSBANDS    WARNING connection to online passbands at http://tables.phoebe-project.org could not be established.  Check your internet connection or try again later.  If the problem persists and you're using a Mac, you may need to update openssl (see http://phoebe-project.org/help/faq). Original error from urlopen: HTTPError HTTP Error 500: Internal Server Error\n",
      "Sat, 27 Jun 2020 14:18 PASSBANDS    WARNING connection to online passbands at http://tables.phoebe-project.org could not be established.  Check your internet connection or try again later.  If the problem persists and you're using a Mac, you may need to update openssl (see http://phoebe-project.org/help/faq). Original error from urlopen: HTTPError HTTP Error 500: Internal Server Error\n",
      "Sat, 27 Jun 2020 14:18 PASSBANDS    WARNING connection to online passbands at http://tables.phoebe-project.org could not be established.  Check your internet connection or try again later.  If the problem persists and you're using a Mac, you may need to update openssl (see http://phoebe-project.org/help/faq). Original error from urlopen: HTTPError HTTP Error 500: Internal Server Error\n",
      "Sat, 27 Jun 2020 14:18 PASSBANDS    WARNING connection to online passbands at http://tables.phoebe-project.org could not be established.  Check your internet connection or try again later.  If the problem persists and you're using a Mac, you may need to update openssl (see http://phoebe-project.org/help/faq). Original error from urlopen: HTTPError HTTP Error 500: Internal Server Error\n",
      "Sat, 27 Jun 2020 14:18 PASSBANDS    WARNING connection to online passbands at http://tables.phoebe-project.org could not be established.  Check your internet connection or try again later.  If the problem persists and you're using a Mac, you may need to update openssl (see http://phoebe-project.org/help/faq). Original error from urlopen: HTTPError HTTP Error 500: Internal Server Error\n",
      "Sat, 27 Jun 2020 14:18 PASSBANDS    WARNING connection to online passbands at http://tables.phoebe-project.org could not be established.  Check your internet connection or try again later.  If the problem persists and you're using a Mac, you may need to update openssl (see http://phoebe-project.org/help/faq). Original error from urlopen: HTTPError HTTP Error 500: Internal Server Error\n",
      "Sat, 27 Jun 2020 14:18 PASSBANDS    WARNING connection to online passbands at http://tables.phoebe-project.org could not be established.  Check your internet connection or try again later.  If the problem persists and you're using a Mac, you may need to update openssl (see http://phoebe-project.org/help/faq). Original error from urlopen: HTTPError HTTP Error 500: Internal Server Error\n",
      "Sat, 27 Jun 2020 14:18 PASSBANDS    WARNING connection to online passbands at http://tables.phoebe-project.org could not be established.  Check your internet connection or try again later.  If the problem persists and you're using a Mac, you may need to update openssl (see http://phoebe-project.org/help/faq). Original error from urlopen: HTTPError HTTP Error 500: Internal Server Error\n",
      "Sat, 27 Jun 2020 14:18 PASSBANDS    WARNING connection to online passbands at http://tables.phoebe-project.org could not be established.  Check your internet connection or try again later.  If the problem persists and you're using a Mac, you may need to update openssl (see http://phoebe-project.org/help/faq). Original error from urlopen: HTTPError HTTP Error 500: Internal Server Error\n",
      "Sat, 27 Jun 2020 14:18 PASSBANDS    WARNING connection to online passbands at http://tables.phoebe-project.org could not be established.  Check your internet connection or try again later.  If the problem persists and you're using a Mac, you may need to update openssl (see http://phoebe-project.org/help/faq). Original error from urlopen: HTTPError HTTP Error 500: Internal Server Error\n",
      "Sat, 27 Jun 2020 14:18 PASSBANDS    WARNING connection to online passbands at http://tables.phoebe-project.org could not be established.  Check your internet connection or try again later.  If the problem persists and you're using a Mac, you may need to update openssl (see http://phoebe-project.org/help/faq). Original error from urlopen: HTTPError HTTP Error 500: Internal Server Error\n",
      "Sat, 27 Jun 2020 14:18 PASSBANDS    WARNING connection to online passbands at http://tables.phoebe-project.org could not be established.  Check your internet connection or try again later.  If the problem persists and you're using a Mac, you may need to update openssl (see http://phoebe-project.org/help/faq). Original error from urlopen: HTTPError HTTP Error 500: Internal Server Error\n",
      "Sat, 27 Jun 2020 14:18 PASSBANDS    WARNING connection to online passbands at http://tables.phoebe-project.org could not be established.  Check your internet connection or try again later.  If the problem persists and you're using a Mac, you may need to update openssl (see http://phoebe-project.org/help/faq). Original error from urlopen: HTTPError HTTP Error 500: Internal Server Error\n",
      "Sat, 27 Jun 2020 14:18 PASSBANDS    WARNING connection to online passbands at http://tables.phoebe-project.org could not be established.  Check your internet connection or try again later.  If the problem persists and you're using a Mac, you may need to update openssl (see http://phoebe-project.org/help/faq). Original error from urlopen: HTTPError HTTP Error 500: Internal Server Error\n",
      "Sat, 27 Jun 2020 14:18 PASSBANDS    WARNING connection to online passbands at http://tables.phoebe-project.org could not be established.  Check your internet connection or try again later.  If the problem persists and you're using a Mac, you may need to update openssl (see http://phoebe-project.org/help/faq). Original error from urlopen: HTTPError HTTP Error 500: Internal Server Error\n",
      "Sat, 27 Jun 2020 14:18 PASSBANDS    WARNING connection to online passbands at http://tables.phoebe-project.org could not be established.  Check your internet connection or try again later.  If the problem persists and you're using a Mac, you may need to update openssl (see http://phoebe-project.org/help/faq). Original error from urlopen: HTTPError HTTP Error 500: Internal Server Error\n",
      "Sat, 27 Jun 2020 14:18 PASSBANDS    WARNING connection to online passbands at http://tables.phoebe-project.org could not be established.  Check your internet connection or try again later.  If the problem persists and you're using a Mac, you may need to update openssl (see http://phoebe-project.org/help/faq). Original error from urlopen: HTTPError HTTP Error 500: Internal Server Error\n",
      "Sat, 27 Jun 2020 14:18 PASSBANDS    WARNING connection to online passbands at http://tables.phoebe-project.org could not be established.  Check your internet connection or try again later.  If the problem persists and you're using a Mac, you may need to update openssl (see http://phoebe-project.org/help/faq). Original error from urlopen: HTTPError HTTP Error 500: Internal Server Error\n",
      "Sat, 27 Jun 2020 14:18 PASSBANDS    WARNING connection to online passbands at http://tables.phoebe-project.org could not be established.  Check your internet connection or try again later.  If the problem persists and you're using a Mac, you may need to update openssl (see http://phoebe-project.org/help/faq). Original error from urlopen: HTTPError HTTP Error 500: Internal Server Error\n"
     ]
    },
    {
     "data": {
      "text/plain": [
       "<ConstraintParameter: {compute_times@lc01@dataset} = phases_to_times({compute_phases@lc01@dataset}, {period@binary@component}, {dpdt@binary@component}, {compute_phases_t0@lc01@dataset}, {t0_supconj@binary@component}, {t0_perpass@binary@component}, {t0_ref@binary@component}) (solar units) => [] d>"
      ]
     },
     "execution_count": 6,
     "metadata": {},
     "output_type": "execute_result"
    }
   ],
   "source": [
    "# build model in phoebe\n",
    "logger = phoebe.logger()\n",
    "\n",
    "phases = phoebe.linspace(0,1,201)\n",
    "\n",
    "b = phoebe.default_contact_binary()\n",
    "\n",
    "b['period@binary'] = 10.98385 * u.hour\n",
    "\n",
    "b.add_dataset(phoebe.parameters.dataset.lc, times=times, fluxes=mags, sigmas=mag_errs, dataset='lc01')\n",
    "b.add_dataset(phoebe.parameters.dataset.rv, compute_phases=phases, dataset='rv01')\n",
    "b.add_dataset(phoebe.parameters.dataset.orb, compute_phases=phases, dataset='orb01')\n",
    "b.add_dataset(phoebe.parameters.dataset.mesh, compute_phases=phases, dataset='mesh01')\n",
    "\n",
    "b.flip_constraint('compute_phases', solve_for='compute_times')\n"
   ]
  },
  {
   "cell_type": "code",
   "execution_count": 5,
   "metadata": {},
   "outputs": [
    {
     "data": {
      "text/plain": [
       "(<autofig.figure.Figure | 1 axes | 1 call(s)>,\n",
       " <Figure size 640x480 with 1 Axes>)"
      ]
     },
     "execution_count": 5,
     "metadata": {},
     "output_type": "execute_result"
    }
   ],
   "source": [
    "b['lc01'].plot(show=True)"
   ]
  },
  {
   "cell_type": "code",
   "execution_count": null,
   "metadata": {},
   "outputs": [],
   "source": [
    "b.run_compute(model='default')"
   ]
  },
  {
   "cell_type": "code",
   "execution_count": null,
   "metadata": {},
   "outputs": [],
   "source": [
    "b.plot(show=True)"
   ]
  },
  {
   "cell_type": "code",
   "execution_count": null,
   "metadata": {},
   "outputs": [],
   "source": [
    "fig = b['mesh01@model'].plot(show=True)"
   ]
  },
  {
   "cell_type": "code",
   "execution_count": null,
   "metadata": {},
   "outputs": [],
   "source": [
    "afig, mplfig = b['orb@default'].plot(x='phases', time=0.5, uncover=True, show=True)\n",
    "\n",
    "mplfig.show()"
   ]
  },
  {
   "cell_type": "code",
   "execution_count": null,
   "metadata": {},
   "outputs": [],
   "source": [
    "afig, mplfig = b.plot(kind='mesh', time=0.2, fc='teffs', ec='none', show=True)"
   ]
  },
  {
   "cell_type": "code",
   "execution_count": null,
   "metadata": {},
   "outputs": [],
   "source": []
  }
 ],
 "metadata": {
  "kernelspec": {
   "display_name": "Python 3",
   "language": "python",
   "name": "python3"
  },
  "language_info": {
   "codemirror_mode": {
    "name": "ipython",
    "version": 3
   },
   "file_extension": ".py",
   "mimetype": "text/x-python",
   "name": "python",
   "nbconvert_exporter": "python",
   "pygments_lexer": "ipython3",
   "version": "3.6.9"
  }
 },
 "nbformat": 4,
 "nbformat_minor": 2
}
